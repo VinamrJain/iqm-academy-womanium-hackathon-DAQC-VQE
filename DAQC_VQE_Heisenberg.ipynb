{
 "cells": [
  {
   "cell_type": "code",
   "execution_count": 1,
   "metadata": {},
   "outputs": [],
   "source": [
    "# We will need some functionality \n",
    "from typing import List \n",
    "\n",
    "# and from math related libraries\n",
    "import numpy as np\n",
    "import qutip as qt\n",
    "\n",
    "# and from qiskit\n",
    "from qiskit.extensions import HamiltonianGate\n",
    "from qiskit import QuantumCircuit, QuantumRegister, Aer, execute\n",
    "from qiskit.circuit import Parameter\n",
    "from qiskit.providers.aer import QasmSimulator\n",
    "from qiskit.quantum_info import Operator\n",
    "import pylab\n",
    "\n",
    "from qiskit.utils import QuantumInstance, algorithm_globals\n",
    "from qiskit.algorithms import VQE, NumPyMinimumEigensolver\n",
    "from qiskit.algorithms.optimizers import SPSA, ADAM\n",
    "from qiskit.circuit.library import TwoLocal\n",
    "from qiskit.opflow import I, X, Z ,Y"
   ]
  },
  {
   "cell_type": "code",
   "execution_count": 2,
   "metadata": {},
   "outputs": [],
   "source": [
    "from numbers import Number\n",
    "import numpy\n",
    "\n",
    "from qiskit.circuit import Gate, QuantumCircuit, QuantumRegister, ParameterExpression\n",
    "from qiskit.quantum_info.operators.predicates import matrix_equal\n",
    "from qiskit.quantum_info.operators.predicates import is_hermitian_matrix\n",
    "from qiskit.extensions.exceptions import ExtensionError\n",
    "from qiskit.circuit.exceptions import CircuitError\n",
    "\n",
    "from qiskit.circuit import Parameter, QuantumCircuit, QuantumRegister \n",
    "\n",
    "\n",
    "from qiskit.extensions.unitary import UnitaryGate\n",
    "\n",
    "# This code is based on https://github.com/Qiskit/qiskit-terra/blob/main/qiskit/extensions/hamiltonian_gate.py licenced under Apache licence.\n",
    "class CustomHamiltonianGate(Gate):\n",
    "    def __init__(self, time, num_qubits, connectivity, h_coeff0,h_coeff1,h_coeff2,h_coeff3,h_coeff4, label=None):\n",
    "        if isinstance(time, Number) and time != numpy.real(time):\n",
    "            raise ExtensionError(\"Evolution time is not real.\")\n",
    "       \n",
    "        self.num_qubits = num_qubits\n",
    "        self.connectivity = connectivity\n",
    "        # Store instruction params\n",
    "        super().__init__(\"custom_hamiltonian\", num_qubits, [time, num_qubits, connectivity, h_coeff0,h_coeff1,h_coeff2,h_coeff3,h_coeff4], label=label)\n",
    "\n",
    "    def __array__(self, dtype=None):\n",
    "        \"\"\"Return matrix for the unitary.\"\"\"\n",
    "        # pylint: disable=unused-argument\n",
    "        import scipy.linalg\n",
    "\n",
    "        try:\n",
    "            return scipy.linalg.expm(-1j * self.get_ham() * float(self.params[0]))\n",
    "        except TypeError as ex:\n",
    "            raise TypeError(\n",
    "                \"Unable to generate Unitary matrix for \"\n",
    "                \"unbound t parameter {}\".format(self.params[1])\n",
    "            ) from ex\n",
    "\n",
    "    def _define(self):\n",
    "        \"\"\"Calculate a subcircuit that implements this unitary.\"\"\"\n",
    "        q = QuantumRegister(self.num_qubits, \"q\")\n",
    "        qc = QuantumCircuit(q, name=self.name)\n",
    "        qc._append(UnitaryGate(self.to_matrix()), q[:], [])\n",
    "        self.definition = qc\n",
    "\n",
    "    def validate_parameter(self, parameter):\n",
    "        return parameter\n",
    "\n",
    "    def get_ham(self):\n",
    "        dim = 2 ** self.num_qubits\n",
    "        num_connections = len(self.connectivity)\n",
    "        zz_hamiltonian = np.zeros([dim, dim], dtype=np.complex128)\n",
    "\n",
    "        for c in range(num_connections):\n",
    "            ops_to_tensor = [qt.identity(2)] * self.num_qubits\n",
    "            ops_to_tensor[self.connectivity[c][0]] = qt.sigmaz()\n",
    "            ops_to_tensor[self.connectivity[c][1]] = qt.sigmaz()\n",
    "            zz_hamiltonian += float(self.params[3+c]) * np.array(qt.tensor(ops_to_tensor)) #+= \n",
    "\n",
    "        return zz_hamiltonian\n",
    "\n",
    "def custom_hamiltonian(self, time, connectivity, h_coeff0,h_coeff1,h_coeff2,h_coeff3,h_coeff4, qubits, label=None):\n",
    "    \"\"\"Apply hamiltonian evolution to qubits.\"\"\"\n",
    "    if not isinstance(qubits, list):\n",
    "        qubits = [qubits]\n",
    "\n",
    "    return self.append(CustomHamiltonianGate(time=time, num_qubits =len(qubits), connectivity=connectivity, h_coeff0=h_coeff0,h_coeff1=h_coeff1,h_coeff2 = h_coeff2,h_coeff3 = h_coeff3,h_coeff4= h_coeff4,label=label), qubits, [])\n",
    "QuantumCircuit.custom_hamiltonian = custom_hamiltonian\n",
    "from qiskit.circuit import  ParameterVector"
   ]
  },
  {
   "cell_type": "code",
   "execution_count": 3,
   "metadata": {},
   "outputs": [],
   "source": [
    "from numbers import Number\n",
    "import numpy\n",
    "\n",
    "from qiskit.circuit import Gate, QuantumCircuit, QuantumRegister, ParameterExpression\n",
    "from qiskit.quantum_info.operators.predicates import matrix_equal\n",
    "from qiskit.quantum_info.operators.predicates import is_hermitian_matrix\n",
    "from qiskit.extensions.exceptions import ExtensionError\n",
    "from qiskit.circuit.exceptions import CircuitError\n",
    "\n",
    "from qiskit.circuit import Parameter, QuantumCircuit, QuantumRegister \n",
    "\n",
    "\n",
    "from qiskit.extensions.unitary import UnitaryGate\n",
    "\n",
    "# This code is based on https://github.com/Qiskit/qiskit-terra/blob/main/qiskit/extensions/hamiltonian_gate.py licenced under Apache licence.\n",
    "class CustomHamiltonianGate1(Gate):\n",
    "    def __init__(self, time, num_qubits, connectivity, h_coeff0,h_coeff1,h_coeff2,h_coeff3,h_coeff4, label=None):\n",
    "        if isinstance(time, Number) and time != numpy.real(time):\n",
    "            raise ExtensionError(\"Evolution time is not real.\")\n",
    "       \n",
    "        self.num_qubits = num_qubits\n",
    "        self.connectivity = connectivity\n",
    "        # Store instruction params\n",
    "        super().__init__(\"custom_hamiltonian1\", num_qubits, [time, num_qubits, connectivity, h_coeff0,h_coeff1,h_coeff2,h_coeff3,h_coeff4], label=label)\n",
    "\n",
    "    def __array__(self, dtype=None):\n",
    "        \"\"\"Return matrix for the unitary.\"\"\"\n",
    "        # pylint: disable=unused-argument\n",
    "        import scipy.linalg\n",
    "\n",
    "        try:\n",
    "            return scipy.linalg.expm(-1j * self.get_ham() * float(self.params[0]))\n",
    "        except TypeError as ex:\n",
    "            raise TypeError(\n",
    "                \"Unable to generate Unitary matrix for \"\n",
    "                \"unbound t parameter {}\".format(self.params[1])\n",
    "            ) from ex\n",
    "\n",
    "    def _define(self):\n",
    "        \"\"\"Calculate a subcircuit that implements this unitary.\"\"\"\n",
    "        q = QuantumRegister(self.num_qubits, \"q\")\n",
    "        qc = QuantumCircuit(q, name=self.name)\n",
    "        qc._append(UnitaryGate(self.to_matrix()), q[:], [])\n",
    "        self.definition = qc\n",
    "\n",
    "    def validate_parameter(self, parameter):\n",
    "        return parameter\n",
    "\n",
    "    def get_ham(self):\n",
    "        dim = 2 ** self.num_qubits\n",
    "        num_connections = len(self.connectivity)\n",
    "        zz_hamiltonian = np.zeros([dim, dim], dtype=np.complex128)\n",
    "\n",
    "        for c in range(num_connections):\n",
    "            ops_to_tensor = [qt.identity(2)] * self.num_qubits\n",
    "            ops_to_tensor[self.connectivity[c][0]] = qt.sigmax()\n",
    "            ops_to_tensor[self.connectivity[c][1]] = qt.sigmax()\n",
    "            zz_hamiltonian += float(self.params[3+c]) * np.array(qt.tensor(ops_to_tensor)) #+= \n",
    "\n",
    "        return zz_hamiltonian\n",
    "\n",
    "def custom_hamiltonian1(self, time, connectivity, h_coeff0,h_coeff1,h_coeff2,h_coeff3,h_coeff4, qubits, label=None):\n",
    "    \"\"\"Apply hamiltonian evolution to qubits.\"\"\"\n",
    "    if not isinstance(qubits, list):\n",
    "        qubits = [qubits]\n",
    "\n",
    "    return self.append(CustomHamiltonianGate1(time=time, num_qubits =len(qubits), connectivity=connectivity, h_coeff0=h_coeff0,h_coeff1=h_coeff1,h_coeff2 = h_coeff2,h_coeff3 = h_coeff3,h_coeff4= h_coeff4,label=label), qubits, [])\n",
    "QuantumCircuit.custom_hamiltonian1 = custom_hamiltonian1\n",
    "from qiskit.circuit import  ParameterVector"
   ]
  },
  {
   "cell_type": "code",
   "execution_count": 4,
   "metadata": {},
   "outputs": [],
   "source": [
    "from numbers import Number\n",
    "import numpy\n",
    "\n",
    "from qiskit.circuit import Gate, QuantumCircuit, QuantumRegister, ParameterExpression\n",
    "from qiskit.quantum_info.operators.predicates import matrix_equal\n",
    "from qiskit.quantum_info.operators.predicates import is_hermitian_matrix\n",
    "from qiskit.extensions.exceptions import ExtensionError\n",
    "from qiskit.circuit.exceptions import CircuitError\n",
    "\n",
    "from qiskit.circuit import Parameter, QuantumCircuit, QuantumRegister \n",
    "\n",
    "\n",
    "from qiskit.extensions.unitary import UnitaryGate\n",
    "\n",
    "# This code is based on https://github.com/Qiskit/qiskit-terra/blob/main/qiskit/extensions/hamiltonian_gate.py licenced under Apache licence.\n",
    "class CustomHamiltonianGate2(Gate):\n",
    "    def __init__(self, time, num_qubits, connectivity, h_coeff0,h_coeff1, label=None):\n",
    "        if isinstance(time, Number) and time != numpy.real(time):\n",
    "            raise ExtensionError(\"Evolution time is not real.\")\n",
    "       \n",
    "        self.num_qubits = num_qubits\n",
    "        self.connectivity = connectivity\n",
    "        # Store instruction params\n",
    "        super().__init__(\"custom_hamiltonian2\", num_qubits, [time, num_qubits, connectivity, h_coeff0,h_coeff1], label=label)\n",
    "\n",
    "    def __array__(self, dtype=None):\n",
    "        \"\"\"Return matrix for the unitary.\"\"\"\n",
    "        # pylint: disable=unused-argument\n",
    "        import scipy.linalg\n",
    "\n",
    "        try:\n",
    "            return scipy.linalg.expm(-1j * self.get_ham() * float(self.params[0]))\n",
    "        except TypeError as ex:\n",
    "            raise TypeError(\n",
    "                \"Unable to generate Unitary matrix for \"\n",
    "                \"unbound t parameter {}\".format(self.params[1])\n",
    "            ) from ex\n",
    "\n",
    "    def _define(self):\n",
    "        \"\"\"Calculate a subcircuit that implements this unitary.\"\"\"\n",
    "        q = QuantumRegister(self.num_qubits, \"q\")\n",
    "        qc = QuantumCircuit(q, name=self.name)\n",
    "        qc._append(UnitaryGate(self.to_matrix()), q[:], [])\n",
    "        self.definition = qc\n",
    "\n",
    "    def validate_parameter(self, parameter):\n",
    "        return parameter\n",
    "\n",
    "    def get_ham(self):\n",
    "        dim = 2 ** self.num_qubits\n",
    "        num_connections1 = len(self.connectivity[0])\n",
    "        num_connections2 = len(self.connectivity[1])\n",
    "        zz_hamiltonian = np.zeros([dim, dim], dtype=np.complex128)\n",
    "\n",
    "        for c in range(num_connections1):\n",
    "            ops_to_tensor = [qt.identity(2)] * self.num_qubits\n",
    "            ops_to_tensor[self.connectivity[0][c][0]] = qt.sigmaz()\n",
    "            ops_to_tensor[self.connectivity[0][c][1]] = qt.sigmaz()\n",
    "            zz_hamiltonian += float(self.params[3]) * np.array(qt.tensor(ops_to_tensor)) #+= \n",
    "        for c in range(num_connections2):\n",
    "            ops_to_tensor = [qt.identity(2)] * self.num_qubits\n",
    "            ops_to_tensor[self.connectivity[1][c][0]] = qt.sigmaz()\n",
    "            ops_to_tensor[self.connectivity[1][c][1]] = qt.sigmaz()\n",
    "            ops_to_tensor[self.connectivity[1][c][2]] = qt.sigmaz()\n",
    "            zz_hamiltonian += float(self.params[4]) * np.array(qt.tensor(ops_to_tensor)) \n",
    "        return zz_hamiltonian\n",
    "\n",
    "def custom_hamiltonian2(self, time, connectivity, h_coeff0,h_coeff1, qubits, label=None):\n",
    "    \"\"\"Apply hamiltonian evolution to qubits.\"\"\"\n",
    "    if not isinstance(qubits, list):\n",
    "        qubits = [qubits]\n",
    "\n",
    "    return self.append(CustomHamiltonianGate2(time=time, num_qubits =len(qubits), connectivity=connectivity, h_coeff0=h_coeff0,h_coeff1=h_coeff1,label=label), qubits, [])\n",
    "QuantumCircuit.custom_hamiltonian2 = custom_hamiltonian2\n",
    "from qiskit.circuit import  ParameterVector"
   ]
  },
  {
   "cell_type": "code",
   "execution_count": 5,
   "metadata": {},
   "outputs": [],
   "source": [
    "from numbers import Number\n",
    "import numpy\n",
    "\n",
    "from qiskit.circuit import Gate, QuantumCircuit, QuantumRegister, ParameterExpression\n",
    "from qiskit.quantum_info.operators.predicates import matrix_equal\n",
    "from qiskit.quantum_info.operators.predicates import is_hermitian_matrix\n",
    "from qiskit.extensions.exceptions import ExtensionError\n",
    "from qiskit.circuit.exceptions import CircuitError\n",
    "\n",
    "from qiskit.circuit import Parameter, QuantumCircuit, QuantumRegister \n",
    "\n",
    "\n",
    "from qiskit.extensions.unitary import UnitaryGate\n",
    "\n",
    "# This code is based on https://github.com/Qiskit/qiskit-terra/blob/main/qiskit/extensions/hamiltonian_gate.py licenced under Apache licence.\n",
    "class CustomHamiltonianGate3(Gate):\n",
    "    def __init__(self, time, num_qubits, connectivity, h_coeff0,h_coeff1,h_coeff2, label=None):\n",
    "        if isinstance(time, Number) and time != numpy.real(time):\n",
    "            raise ExtensionError(\"Evolution time is not real.\")\n",
    "       \n",
    "        self.num_qubits = num_qubits\n",
    "        self.connectivity = connectivity\n",
    "        # Store instruction params\n",
    "        super().__init__(\"custom_hamiltonian3\", num_qubits, [time, num_qubits, connectivity, h_coeff0,h_coeff1,h_coeff2], label=label)\n",
    "\n",
    "    def __array__(self, dtype=None):\n",
    "        \"\"\"Return matrix for the unitary.\"\"\"\n",
    "        # pylint: disable=unused-argument\n",
    "        import scipy.linalg\n",
    "\n",
    "        try:\n",
    "            return scipy.linalg.expm(-1j * self.get_ham() * float(self.params[0]))\n",
    "        except TypeError as ex:\n",
    "            raise TypeError(\n",
    "                \"Unable to generate Unitary matrix for \"\n",
    "                \"unbound t parameter {}\".format(self.params[1])\n",
    "            ) from ex\n",
    "\n",
    "    def _define(self):\n",
    "        \"\"\"Calculate a subcircuit that implements this unitary.\"\"\"\n",
    "        q = QuantumRegister(self.num_qubits, \"q\")\n",
    "        qc = QuantumCircuit(q, name=self.name)\n",
    "        qc._append(UnitaryGate(self.to_matrix()), q[:], [])\n",
    "        self.definition = qc\n",
    "\n",
    "    def validate_parameter(self, parameter):\n",
    "        return parameter\n",
    "\n",
    "    def get_ham(self):\n",
    "        dim = 2 ** self.num_qubits\n",
    "        num_connections1 = len(self.connectivity[0])\n",
    "        num_connections2 = len(self.connectivity[1])\n",
    "        num_connections3 = len(self.connectivity[2])\n",
    "        zz_hamiltonian = np.zeros([dim, dim], dtype=np.complex128)\n",
    "\n",
    "        for c in range(num_connections1):\n",
    "            ops_to_tensor = [qt.identity(2)] * self.num_qubits\n",
    "            ops_to_tensor[self.connectivity[0][c][0]] = qt.sigmax()\n",
    "            ops_to_tensor[self.connectivity[0][c][1]] = qt.sigmax()\n",
    "            zz_hamiltonian += float(self.params[3]) * np.array(qt.tensor(ops_to_tensor)) #+= \n",
    "        for c in range(num_connections2):\n",
    "            ops_to_tensor = [qt.identity(2)] * self.num_qubits\n",
    "            ops_to_tensor[self.connectivity[1][c][0]] = qt.sigmay()\n",
    "            ops_to_tensor[self.connectivity[1][c][1]] = qt.sigmay()\n",
    "            zz_hamiltonian += float(self.params[4]) * np.array(qt.tensor(ops_to_tensor))\n",
    "        for c in range(num_connections3):\n",
    "            ops_to_tensor = [qt.identity(2)] * self.num_qubits\n",
    "            ops_to_tensor[self.connectivity[2][c][0]] = qt.sigmaz()\n",
    "            ops_to_tensor[self.connectivity[2][c][1]] = qt.sigmaz()\n",
    "            zz_hamiltonian += float(self.params[5]) * np.array(qt.tensor(ops_to_tensor))\n",
    "        return zz_hamiltonian\n",
    "\n",
    "def custom_hamiltonian3(self, time, connectivity, h_coeff0,h_coeff1,h_coeff2, qubits, label=None):\n",
    "    \"\"\"Apply hamiltonian evolution to qubits.\"\"\"\n",
    "    if not isinstance(qubits, list):\n",
    "        qubits = [qubits]\n",
    "\n",
    "    return self.append(CustomHamiltonianGate3(time=time, num_qubits =len(qubits), connectivity=connectivity, h_coeff0=h_coeff0,h_coeff1=h_coeff1,h_coeff2 = h_coeff2,label=label), qubits, [])\n",
    "QuantumCircuit.custom_hamiltonian3 = custom_hamiltonian3\n",
    "from qiskit.circuit import  ParameterVector"
   ]
  },
  {
   "cell_type": "code",
   "execution_count": 6,
   "metadata": {},
   "outputs": [
    {
     "name": "stdout",
     "output_type": "stream",
     "text": [
      "Number of qubits: 5\n"
     ]
    }
   ],
   "source": [
    "\"\"\" H2_op = (-1.052373245772859 * I ^ I) + \\\n",
    "        (0.39793742484318045 * I ^ Z) + \\\n",
    "        (-0.39793742484318045 * Z ^ I) + \\\n",
    "        (-0.01128010425623538 * Z ^ Z) + \\\n",
    "        (0.18093119978423156 * X ^ X) \"\"\"\n",
    "def H_heis3(num_qubits):\n",
    "    # FILL YOUR CODE IN HERE\n",
    "    H = 0\n",
    "    #num_qubits = 3\n",
    "    for i in range(num_qubits-1):\n",
    "        H += (I^(num_qubits-i-2))^X^X^(I^i)\n",
    "    for i in range(num_qubits-1):\n",
    "        H += (I^(num_qubits-i-2))^Y^Y^(I^i)\n",
    "    for i in range(num_qubits-1):\n",
    "        H += (I^(num_qubits-i-2))^Z^Z^(I^i)\n",
    "    # Return Hamiltonian\n",
    "    return H\n",
    "H2_op = H_heis3(5)\n",
    "print(f'Number of qubits: {H2_op.num_qubits}')"
   ]
  },
  {
   "cell_type": "code",
   "execution_count": 38,
   "metadata": {},
   "outputs": [],
   "source": [
    "\"\"\" t = Parameter('t')\n",
    "num_qubits = H2_op.num_qubits\n",
    "hamiltonian = create_zz_hamiltonian(num_qubits, [[[0, 1],[1,2]],[]], [[1.,1.],[]]) \n",
    "analog_block = HamiltonianGate(data=hamiltonian, time=t) \"\"\""
   ]
  },
  {
   "cell_type": "code",
   "execution_count": 7,
   "metadata": {},
   "outputs": [
    {
     "name": "stdout",
     "output_type": "stream",
     "text": [
      "Reference value: -7.71155\n"
     ]
    }
   ],
   "source": [
    "npme = NumPyMinimumEigensolver()\n",
    "result = npme.compute_minimum_eigenvalue(operator=H2_op)\n",
    "ref_value = result.eigenvalue.real\n",
    "print(f'Reference value: {ref_value:.5f}')"
   ]
  },
  {
   "cell_type": "code",
   "execution_count": 95,
   "metadata": {},
   "outputs": [],
   "source": [
    "seed = 69\n",
    "iterations = 125\n",
    "algorithm_globals.random_seed = seed\n",
    "backend = Aer.get_backend('aer_simulator')\n",
    "qi = QuantumInstance(backend=backend, seed_simulator=seed, seed_transpiler=seed) "
   ]
  },
  {
   "cell_type": "code",
   "execution_count": 96,
   "metadata": {},
   "outputs": [],
   "source": [
    "countsa = []\n",
    "valuesa = []\n",
    "def store_intermediate_resulta(eval_count, parameters, mean, std):\n",
    "    countsa.append(eval_count)\n",
    "    valuesa.append(mean)"
   ]
  },
  {
   "cell_type": "code",
   "execution_count": 97,
   "metadata": {},
   "outputs": [],
   "source": [
    "countsa1 = []\n",
    "valuesa1 = []\n",
    "def store_intermediate_resulta1(eval_count, parameters, mean, std):\n",
    "    countsa1.append(eval_count)\n",
    "    valuesa1.append(mean)"
   ]
  },
  {
   "cell_type": "code",
   "execution_count": 99,
   "metadata": {},
   "outputs": [],
   "source": [
    "\n",
    "countsa2 = []\n",
    "valuesa2 = []\n",
    "def store_intermediate_resulta2(eval_count, parameters, mean, std):\n",
    "    countsa2.append(eval_count)\n",
    "    valuesa2.append(mean)"
   ]
  },
  {
   "cell_type": "code",
   "execution_count": 100,
   "metadata": {},
   "outputs": [],
   "source": [
    "countsa3 = []\n",
    "valuesa3 = []\n",
    "def store_intermediate_resulta3(eval_count, parameters, mean, std):\n",
    "    countsa3.append(eval_count)\n",
    "    valuesa3.append(mean)"
   ]
  },
  {
   "cell_type": "code",
   "execution_count": 101,
   "metadata": {},
   "outputs": [],
   "source": [
    "countsa4 = []\n",
    "valuesa4 = []\n",
    "def store_intermediate_resulta4(eval_count, parameters, mean, std):\n",
    "    countsa4.append(eval_count)\n",
    "    valuesa4.append(mean)"
   ]
  },
  {
   "cell_type": "code",
   "execution_count": 102,
   "metadata": {},
   "outputs": [],
   "source": [
    "countsa5 = []\n",
    "valuesa5 = []\n",
    "def store_intermediate_resulta5(eval_count, parameters, mean, std):\n",
    "    countsa5.append(eval_count)\n",
    "    valuesa5.append(mean)"
   ]
  },
  {
   "cell_type": "code",
   "execution_count": 124,
   "metadata": {},
   "outputs": [],
   "source": [
    "countsa6 = []\n",
    "valuesa6 = []\n",
    "def store_intermediate_resulta6(eval_count, parameters, mean, std):\n",
    "    countsa6.append(eval_count)\n",
    "    valuesa6.append(mean)"
   ]
  },
  {
   "cell_type": "code",
   "execution_count": 104,
   "metadata": {},
   "outputs": [],
   "source": [
    "countsa7 = []\n",
    "valuesa7 = []\n",
    "def store_intermediate_resulta7(eval_count, parameters, mean, std):\n",
    "    countsa7.append(eval_count)\n",
    "    valuesa7.append(mean)"
   ]
  },
  {
   "cell_type": "code",
   "execution_count": 125,
   "metadata": {},
   "outputs": [],
   "source": [
    "countsa8 = []\n",
    "valuesa8 = []\n",
    "def store_intermediate_resulta8(eval_count, parameters, mean, std):\n",
    "    countsa8.append(eval_count)\n",
    "    valuesa8.append(mean)"
   ]
  },
  {
   "cell_type": "code",
   "execution_count": 147,
   "metadata": {},
   "outputs": [],
   "source": [
    "countsa9 = []\n",
    "valuesa9 = []\n",
    "def store_intermediate_resulta9(eval_count, parameters, mean, std):\n",
    "    countsa9.append(eval_count)\n",
    "    valuesa9.append(mean)"
   ]
  },
  {
   "cell_type": "code",
   "execution_count": 107,
   "metadata": {},
   "outputs": [],
   "source": [
    "countsa10 = []\n",
    "valuesa10 = []\n",
    "def store_intermediate_resulta10(eval_count, parameters, mean, std):\n",
    "    countsa10.append(eval_count)\n",
    "    valuesa10.append(mean)"
   ]
  },
  {
   "cell_type": "code",
   "execution_count": 108,
   "metadata": {},
   "outputs": [],
   "source": [
    "countsa11 = []\n",
    "valuesa11 = []\n",
    "def store_intermediate_resulta11(eval_count, parameters, mean, std):\n",
    "    countsa11.append(eval_count)\n",
    "    valuesa11.append(mean)"
   ]
  },
  {
   "cell_type": "markdown",
   "metadata": {},
   "source": [
    "- Take the problem hamiltonian as the analog gate\n",
    "- choose different connectivities within the same layer\n",
    "- Take inspiration from the kind of entanglement of the ansatz which worked in the digital vqe case\n",
    "- Add ZZZ terms, linear star connectivities (also covered in point 2)\n",
    "- Work explicitly for the Heisenberg hamiltonian as a case study\n",
    "- Scope to work to play around with other hamiltonians like H2 (4 qubit case)/ T-Ising using the same ansatzes developed keeping Heisenberg Hamiltonian in mind (Those will require their own in depth analysis, but it seems plausible that if we are able to make something work for the Heisenberg case, the same heuristics can help in other cases)\n",
    "- UNFORTUNATELY, t/h_coeffs cannot be parameterized for the Noisy case for n > 2 qubits hence after working things out for the noise-free case, we'll assign the optimal values for the same to the noisy case and hope things don't fall out\n",
    "- WE use the same SPSA optimizer for all the our use cases (ADAM works fast but gives highly inaccurate results)\n",
    "- Ansatzes which produce good results at small scale, may not work for larger scale. (vice versa)?"
   ]
  },
  {
   "cell_type": "markdown",
   "metadata": {},
   "source": [
    "- Increasing the no. of Iterations can sometimes help escape a local minima\n",
    "- Running the same ansatz again and again can sometime give highly varying results implying the existence of local minima and The seed not being fixed gives differing results\n",
    "- Changing the kind and sequence of Rotation gates affects the Results.\n",
    "- Increasing the number of layers need not mean getting a better ansatz, ansatz9 works the best even with lesser no. of parameters\n",
    "- One possible reason why More \"Complex\" ansatzes fail to produce results which are closer to actual ones is because those ansatzes are \"Stronger\" in the sense that they gradient is \"steeper\" and hence often gets stuck in barren plateus\n",
    "- I earlier tried parameterizing the h_coefficients but it seems that, by initializing all the coefficients to 1, it produces better results"
   ]
  },
  {
   "cell_type": "markdown",
   "metadata": {},
   "source": [
    "#### Here we use A linear $(Z_jZ_{j+1})$ connectivity for n = 5 qubits (when h_coefficients were parameterized), seems to work better without"
   ]
  },
  {
   "cell_type": "code",
   "execution_count": 9,
   "metadata": {},
   "outputs": [
    {
     "name": "stdout",
     "output_type": "stream",
     "text": [
      "      »\n",
      "q0_0: »\n",
      "      »\n",
      "q0_1: »\n",
      "      »\n",
      "q0_2: »\n",
      "      »\n",
      "q0_3: »\n",
      "      »\n",
      "q0_4: »\n",
      "      »\n",
      "«      ┌───────────────────────────────────────────────────────────────────────────────────────┐»\n",
      "«q0_0: ┤0                                                                                      ├»\n",
      "«      │                                                                                       │»\n",
      "«q0_1: ┤1                                                                                      ├»\n",
      "«      │                                                                                       │»\n",
      "«q0_2: ┤2 analog_block(p0[0],5,[[0, 1], [1, 2], [2, 3], [3, 4]],p1[0],p1[1],p1[2],p1[3],p1[4]) ├»\n",
      "«      │                                                                                       │»\n",
      "«q0_3: ┤3                                                                                      ├»\n",
      "«      │                                                                                       │»\n",
      "«q0_4: ┤4                                                                                      ├»\n",
      "«      └───────────────────────────────────────────────────────────────────────────────────────┘»\n",
      "«      ┌───────────┐┌───────────┐»\n",
      "«q0_0: ┤ Rx(p2[0]) ├┤ Rz(p3[0]) ├»\n",
      "«      ├───────────┤├───────────┤»\n",
      "«q0_1: ┤ Rx(p2[1]) ├┤ Rz(p3[1]) ├»\n",
      "«      ├───────────┤├───────────┤»\n",
      "«q0_2: ┤ Rx(p2[2]) ├┤ Rz(p3[2]) ├»\n",
      "«      ├───────────┤├───────────┤»\n",
      "«q0_3: ┤ Rx(p2[3]) ├┤ Rz(p3[3]) ├»\n",
      "«      ├───────────┤├───────────┤»\n",
      "«q0_4: ┤ Rx(p2[4]) ├┤ Rz(p3[4]) ├»\n",
      "«      └───────────┘└───────────┘»\n",
      "«      ┌───────────────────────────────────────────────────────────────────────────────────────┐»\n",
      "«q0_0: ┤0                                                                                      ├»\n",
      "«      │                                                                                       │»\n",
      "«q0_1: ┤1                                                                                      ├»\n",
      "«      │                                                                                       │»\n",
      "«q0_2: ┤2 analog_block(p4[0],5,[[0, 1], [1, 2], [2, 3], [3, 4]],p5[0],p5[1],p5[2],p5[3],p5[4]) ├»\n",
      "«      │                                                                                       │»\n",
      "«q0_3: ┤3                                                                                      ├»\n",
      "«      │                                                                                       │»\n",
      "«q0_4: ┤4                                                                                      ├»\n",
      "«      └───────────────────────────────────────────────────────────────────────────────────────┘»\n",
      "«      ┌───────────┐┌───────────┐\n",
      "«q0_0: ┤ Rx(p6[0]) ├┤ Rz(p7[0]) ├\n",
      "«      ├───────────┤├───────────┤\n",
      "«q0_1: ┤ Rx(p6[1]) ├┤ Rz(p7[1]) ├\n",
      "«      ├───────────┤├───────────┤\n",
      "«q0_2: ┤ Rx(p6[2]) ├┤ Rz(p7[2]) ├\n",
      "«      ├───────────┤├───────────┤\n",
      "«q0_3: ┤ Rx(p6[3]) ├┤ Rz(p7[3]) ├\n",
      "«      ├───────────┤├───────────┤\n",
      "«q0_4: ┤ Rx(p6[4]) ├┤ Rz(p7[4]) ├\n",
      "«      └───────────┘└───────────┘\n"
     ]
    }
   ],
   "source": [
    "no_qubits = H2_op.num_qubits\n",
    "nlayers = 2\n",
    "# Create a quantum circuit that is used for the ansatz\n",
    "qra = QuantumRegister(no_qubits)\n",
    "ansatza = QuantumCircuit(qra)\n",
    "tparamsa = []\n",
    "hparamsa = []\n",
    "#hmm = TwoLocal(num_qubits=H2_op.num_qubits,rotation_blocks=['rx','ry','rz'],entanglement_blocks=analog_block,reps=nlayers,insert_barriers=True)\n",
    "for i in range(nlayers):\n",
    "    tparamsa.append(ParameterVector(f\"p{4*i}\",1))\n",
    "    hparamsa.append(ParameterVector(f\"p{4*i+1}\",5))\n",
    "    ansatza.custom_hamiltonian(connectivity=[[0,1],[1,2],[2,3],[3,4]],h_coeff0=hparamsa[-1][0],h_coeff1=hparamsa[-1][1],h_coeff2=hparamsa[-1][2],h_coeff3=hparamsa[-1][3],h_coeff4=hparamsa[-1][4],time=tparamsa[-1][0],qubits=[qra[i] for i in range(no_qubits)],label='analog_block')\n",
    "    c = ParameterVector(f\"p{4*i+2}\",no_qubits)\n",
    "    for j in range(no_qubits):\n",
    "        ansatza.rx(c[j],j)\n",
    "    e = ParameterVector(f\"p{4*i+3}\",no_qubits)\n",
    "    for j in range(no_qubits):\n",
    "        ansatza.rz(e[j],j)\n",
    "print(ansatza.draw())"
   ]
  },
  {
   "cell_type": "markdown",
   "metadata": {},
   "source": [
    "#### Here we use A linear $(X_jX_{j+1})$ connectivity for n = 5 qubits"
   ]
  },
  {
   "cell_type": "code",
   "execution_count": 10,
   "metadata": {},
   "outputs": [
    {
     "name": "stdout",
     "output_type": "stream",
     "text": [
      "      »\n",
      "q1_0: »\n",
      "      »\n",
      "q1_1: »\n",
      "      »\n",
      "q1_2: »\n",
      "      »\n",
      "q1_3: »\n",
      "      »\n",
      "q1_4: »\n",
      "      »\n",
      "«      ┌────────────────────────────────────────────────────────────────────────────────────────┐»\n",
      "«q1_0: ┤0                                                                                       ├»\n",
      "«      │                                                                                        │»\n",
      "«q1_1: ┤1                                                                                       ├»\n",
      "«      │                                                                                        │»\n",
      "«q1_2: ┤2 analog_block1(p0[0],5,[[0, 1], [1, 2], [2, 3], [3, 4]],p1[0],p1[1],p1[2],p1[3],p1[4]) ├»\n",
      "«      │                                                                                        │»\n",
      "«q1_3: ┤3                                                                                       ├»\n",
      "«      │                                                                                        │»\n",
      "«q1_4: ┤4                                                                                       ├»\n",
      "«      └────────────────────────────────────────────────────────────────────────────────────────┘»\n",
      "«      ┌───────────┐┌───────────┐»\n",
      "«q1_0: ┤ Rx(p2[0]) ├┤ Rz(p3[0]) ├»\n",
      "«      ├───────────┤├───────────┤»\n",
      "«q1_1: ┤ Rx(p2[1]) ├┤ Rz(p3[1]) ├»\n",
      "«      ├───────────┤├───────────┤»\n",
      "«q1_2: ┤ Rx(p2[2]) ├┤ Rz(p3[2]) ├»\n",
      "«      ├───────────┤├───────────┤»\n",
      "«q1_3: ┤ Rx(p2[3]) ├┤ Rz(p3[3]) ├»\n",
      "«      ├───────────┤├───────────┤»\n",
      "«q1_4: ┤ Rx(p2[4]) ├┤ Rz(p3[4]) ├»\n",
      "«      └───────────┘└───────────┘»\n",
      "«      ┌────────────────────────────────────────────────────────────────────────────────────────┐»\n",
      "«q1_0: ┤0                                                                                       ├»\n",
      "«      │                                                                                        │»\n",
      "«q1_1: ┤1                                                                                       ├»\n",
      "«      │                                                                                        │»\n",
      "«q1_2: ┤2 analog_block1(p4[0],5,[[0, 1], [1, 2], [2, 3], [3, 4]],p5[0],p5[1],p5[2],p5[3],p5[4]) ├»\n",
      "«      │                                                                                        │»\n",
      "«q1_3: ┤3                                                                                       ├»\n",
      "«      │                                                                                        │»\n",
      "«q1_4: ┤4                                                                                       ├»\n",
      "«      └────────────────────────────────────────────────────────────────────────────────────────┘»\n",
      "«      ┌───────────┐┌───────────┐\n",
      "«q1_0: ┤ Rx(p6[0]) ├┤ Rz(p7[0]) ├\n",
      "«      ├───────────┤├───────────┤\n",
      "«q1_1: ┤ Rx(p6[1]) ├┤ Rz(p7[1]) ├\n",
      "«      ├───────────┤├───────────┤\n",
      "«q1_2: ┤ Rx(p6[2]) ├┤ Rz(p7[2]) ├\n",
      "«      ├───────────┤├───────────┤\n",
      "«q1_3: ┤ Rx(p6[3]) ├┤ Rz(p7[3]) ├\n",
      "«      ├───────────┤├───────────┤\n",
      "«q1_4: ┤ Rx(p6[4]) ├┤ Rz(p7[4]) ├\n",
      "«      └───────────┘└───────────┘\n"
     ]
    }
   ],
   "source": [
    "no_qubits = H2_op.num_qubits\n",
    "nlayers = 2\n",
    "# Create a quantum circuit that is used for the ansatz\n",
    "qra3 = QuantumRegister(no_qubits)\n",
    "ansatza3 = QuantumCircuit(qra3)\n",
    "tparamsa3 = []\n",
    "hparamsa3 = []\n",
    "#hmm = TwoLocal(num_qubits=H2_op.num_qubits,rotation_blocks=['rx','ry','rz'],entanglement_blocks=analog_block,reps=nlayers,insert_barriers=True)\n",
    "for i in range(nlayers):\n",
    "    tparamsa3.append(ParameterVector(f\"p{4*i}\",1))\n",
    "    hparamsa3.append(ParameterVector(f\"p{4*i+1}\",5))\n",
    "    ansatza3.custom_hamiltonian1(connectivity=[[0,1],[1,2],[2,3],[3,4]],h_coeff0=hparamsa3[-1][0],h_coeff1=hparamsa3[-1][1],h_coeff2=hparamsa3[-1][2],h_coeff3=hparamsa3[-1][3],h_coeff4=hparamsa3[-1][4],time=tparamsa3[-1][0],qubits=[qra3[i] for i in range(no_qubits)],label='analog_block1')\n",
    "    c = ParameterVector(f\"p{4*i+2}\",no_qubits)\n",
    "    for j in range(no_qubits):\n",
    "        ansatza3.rx(c[j],j)\n",
    "    e = ParameterVector(f\"p{4*i+3}\",no_qubits)\n",
    "    for j in range(no_qubits):\n",
    "        ansatza3.rz(e[j],j)\n",
    "print(ansatza3.draw())"
   ]
  },
  {
   "cell_type": "markdown",
   "metadata": {},
   "source": [
    "#### Here we Change the rotation gates used (worked best for Ry,Rz after Rx,Rz) for the $Z_jZ_{j+1}$ connectivity"
   ]
  },
  {
   "cell_type": "code",
   "execution_count": 11,
   "metadata": {},
   "outputs": [
    {
     "name": "stdout",
     "output_type": "stream",
     "text": [
      "      »\n",
      "q2_0: »\n",
      "      »\n",
      "q2_1: »\n",
      "      »\n",
      "q2_2: »\n",
      "      »\n",
      "q2_3: »\n",
      "      »\n",
      "q2_4: »\n",
      "      »\n",
      "«      ┌────────────────────────────────────────────────────────────────────────────────────────┐»\n",
      "«q2_0: ┤0                                                                                       ├»\n",
      "«      │                                                                                        │»\n",
      "«q2_1: ┤1                                                                                       ├»\n",
      "«      │                                                                                        │»\n",
      "«q2_2: ┤2 analog_block1(p0[0],5,[[0, 1], [1, 2], [2, 3], [3, 4]],p1[0],p1[1],p1[2],p1[3],p1[4]) ├»\n",
      "«      │                                                                                        │»\n",
      "«q2_3: ┤3                                                                                       ├»\n",
      "«      │                                                                                        │»\n",
      "«q2_4: ┤4                                                                                       ├»\n",
      "«      └────────────────────────────────────────────────────────────────────────────────────────┘»\n",
      "«      ┌───────────┐┌───────────┐»\n",
      "«q2_0: ┤ Ry(p2[0]) ├┤ Rz(p3[0]) ├»\n",
      "«      ├───────────┤├───────────┤»\n",
      "«q2_1: ┤ Ry(p2[1]) ├┤ Rz(p3[1]) ├»\n",
      "«      ├───────────┤├───────────┤»\n",
      "«q2_2: ┤ Ry(p2[2]) ├┤ Rz(p3[2]) ├»\n",
      "«      ├───────────┤├───────────┤»\n",
      "«q2_3: ┤ Ry(p2[3]) ├┤ Rz(p3[3]) ├»\n",
      "«      ├───────────┤├───────────┤»\n",
      "«q2_4: ┤ Ry(p2[4]) ├┤ Rz(p3[4]) ├»\n",
      "«      └───────────┘└───────────┘»\n",
      "«      ┌────────────────────────────────────────────────────────────────────────────────────────┐»\n",
      "«q2_0: ┤0                                                                                       ├»\n",
      "«      │                                                                                        │»\n",
      "«q2_1: ┤1                                                                                       ├»\n",
      "«      │                                                                                        │»\n",
      "«q2_2: ┤2 analog_block1(p4[0],5,[[0, 1], [1, 2], [2, 3], [3, 4]],p5[0],p5[1],p5[2],p5[3],p5[4]) ├»\n",
      "«      │                                                                                        │»\n",
      "«q2_3: ┤3                                                                                       ├»\n",
      "«      │                                                                                        │»\n",
      "«q2_4: ┤4                                                                                       ├»\n",
      "«      └────────────────────────────────────────────────────────────────────────────────────────┘»\n",
      "«      ┌───────────┐┌───────────┐\n",
      "«q2_0: ┤ Ry(p6[0]) ├┤ Rz(p7[0]) ├\n",
      "«      ├───────────┤├───────────┤\n",
      "«q2_1: ┤ Ry(p6[1]) ├┤ Rz(p7[1]) ├\n",
      "«      ├───────────┤├───────────┤\n",
      "«q2_2: ┤ Ry(p6[2]) ├┤ Rz(p7[2]) ├\n",
      "«      ├───────────┤├───────────┤\n",
      "«q2_3: ┤ Ry(p6[3]) ├┤ Rz(p7[3]) ├\n",
      "«      ├───────────┤├───────────┤\n",
      "«q2_4: ┤ Ry(p6[4]) ├┤ Rz(p7[4]) ├\n",
      "«      └───────────┘└───────────┘\n"
     ]
    }
   ],
   "source": [
    "no_qubits = H2_op.num_qubits\n",
    "nlayers = 2\n",
    "# Create a quantum circuit that is used for the ansatz\n",
    "qra4 = QuantumRegister(no_qubits)\n",
    "ansatza4 = QuantumCircuit(qra4)\n",
    "tparamsa4 = []\n",
    "hparamsa4 = []\n",
    "#hmm = TwoLocal(num_qubits=H2_op.num_qubits,rotation_blocks=['rx','ry','rz'],entanglement_blocks=analog_block,reps=nlayers,insert_barriers=True)\n",
    "for i in range(nlayers):\n",
    "    tparamsa4.append(ParameterVector(f\"p{4*i}\",1))\n",
    "    hparamsa4.append(ParameterVector(f\"p{4*i+1}\",5))\n",
    "    ansatza4.custom_hamiltonian(connectivity=[[0,1],[1,2],[2,3],[3,4]],h_coeff0=hparamsa4[-1][0],h_coeff1=hparamsa4[-1][1],h_coeff2=hparamsa4[-1][2],h_coeff3=hparamsa4[-1][3],h_coeff4=hparamsa4[-1][4],time=tparamsa4[-1][0],qubits=[qra4[i] for i in range(no_qubits)],label='analog_block1')\n",
    "    c = ParameterVector(f\"p{4*i+2}\",no_qubits)\n",
    "    for j in range(no_qubits):\n",
    "        ansatza4.ry(c[j],j)\n",
    "    e = ParameterVector(f\"p{4*i+3}\",no_qubits)\n",
    "    for j in range(no_qubits):\n",
    "        ansatza4.rz(e[j],j)\n",
    "print(ansatza4.draw())"
   ]
  },
  {
   "cell_type": "markdown",
   "metadata": {},
   "source": [
    "#### Here we use A linear $(Z_jZ_{j+1})$ along with the additional $(Z_jZ_{j+1}Z_{j+2})$ connectivity for n = 5 qubits"
   ]
  },
  {
   "cell_type": "code",
   "execution_count": 12,
   "metadata": {},
   "outputs": [
    {
     "name": "stdout",
     "output_type": "stream",
     "text": [
      "      »\n",
      "q3_0: »\n",
      "      »\n",
      "q3_1: »\n",
      "      »\n",
      "q3_2: »\n",
      "      »\n",
      "q3_3: »\n",
      "      »\n",
      "q3_4: »\n",
      "      »\n",
      "«      ┌───────────────────────────────────────────────────────────────────────────────────────────────────────────┐»\n",
      "«q3_0: ┤0                                                                                                          ├»\n",
      "«      │                                                                                                           │»\n",
      "«q3_1: ┤1                                                                                                          ├»\n",
      "«      │                                                                                                           │»\n",
      "«q3_2: ┤2 analog_block1(p0[0],5,[[[0, 1], [1, 2], [2, 3], [3, 4]], [[0, 1, 2], [1, 2, 3], [2, 3, 4]]],p1[0],p1[1]) ├»\n",
      "«      │                                                                                                           │»\n",
      "«q3_3: ┤3                                                                                                          ├»\n",
      "«      │                                                                                                           │»\n",
      "«q3_4: ┤4                                                                                                          ├»\n",
      "«      └───────────────────────────────────────────────────────────────────────────────────────────────────────────┘»\n",
      "«      ┌───────────┐┌───────────┐»\n",
      "«q3_0: ┤ Rz(p2[0]) ├┤ Rx(p3[0]) ├»\n",
      "«      ├───────────┤├───────────┤»\n",
      "«q3_1: ┤ Rz(p2[1]) ├┤ Rx(p3[1]) ├»\n",
      "«      ├───────────┤├───────────┤»\n",
      "«q3_2: ┤ Rz(p2[2]) ├┤ Rx(p3[2]) ├»\n",
      "«      ├───────────┤├───────────┤»\n",
      "«q3_3: ┤ Rz(p2[3]) ├┤ Rx(p3[3]) ├»\n",
      "«      ├───────────┤├───────────┤»\n",
      "«q3_4: ┤ Rz(p2[4]) ├┤ Rx(p3[4]) ├»\n",
      "«      └───────────┘└───────────┘»\n",
      "«      ┌───────────────────────────────────────────────────────────────────────────────────────────────────────────┐»\n",
      "«q3_0: ┤0                                                                                                          ├»\n",
      "«      │                                                                                                           │»\n",
      "«q3_1: ┤1                                                                                                          ├»\n",
      "«      │                                                                                                           │»\n",
      "«q3_2: ┤2 analog_block1(p4[0],5,[[[0, 1], [1, 2], [2, 3], [3, 4]], [[0, 1, 2], [1, 2, 3], [2, 3, 4]]],p5[0],p5[1]) ├»\n",
      "«      │                                                                                                           │»\n",
      "«q3_3: ┤3                                                                                                          ├»\n",
      "«      │                                                                                                           │»\n",
      "«q3_4: ┤4                                                                                                          ├»\n",
      "«      └───────────────────────────────────────────────────────────────────────────────────────────────────────────┘»\n",
      "«      ┌───────────┐┌───────────┐\n",
      "«q3_0: ┤ Rz(p6[0]) ├┤ Rx(p7[0]) ├\n",
      "«      ├───────────┤├───────────┤\n",
      "«q3_1: ┤ Rz(p6[1]) ├┤ Rx(p7[1]) ├\n",
      "«      ├───────────┤├───────────┤\n",
      "«q3_2: ┤ Rz(p6[2]) ├┤ Rx(p7[2]) ├\n",
      "«      ├───────────┤├───────────┤\n",
      "«q3_3: ┤ Rz(p6[3]) ├┤ Rx(p7[3]) ├\n",
      "«      ├───────────┤├───────────┤\n",
      "«q3_4: ┤ Rz(p6[4]) ├┤ Rx(p7[4]) ├\n",
      "«      └───────────┘└───────────┘\n"
     ]
    }
   ],
   "source": [
    "no_qubits = H2_op.num_qubits\n",
    "nlayers = 2\n",
    "# Create a quantum circuit that is used for the ansatz\n",
    "qra5 = QuantumRegister(no_qubits)\n",
    "ansatza5 = QuantumCircuit(qra5)\n",
    "tparamsa5 = []\n",
    "hparamsa5 = []\n",
    "#hmm = TwoLocal(num_qubits=H2_op.num_qubits,rotation_blocks=['rx','ry','rz'],entanglement_blocks=analog_block,reps=nlayers,insert_barriers=True)\n",
    "for i in range(nlayers):\n",
    "    tparamsa5.append(ParameterVector(f\"p{4*i}\",1))\n",
    "    hparamsa5.append(ParameterVector(f\"p{4*i+1}\",2))\n",
    "    ansatza5.custom_hamiltonian2(connectivity=[[[0,1],[1,2],[2,3],[3,4]],[[0,1,2],[1,2,3],[2,3,4]]],h_coeff0=hparamsa5[-1][0],h_coeff1=hparamsa5[-1][1],time=tparamsa5[-1][0],qubits=[qra5[i] for i in range(no_qubits)],label='analog_block1')\n",
    "    c = ParameterVector(f\"p{4*i+2}\",no_qubits)\n",
    "    for j in range(no_qubits):\n",
    "        ansatza5.rz(c[j],j)\n",
    "    e = ParameterVector(f\"p{4*i+3}\",no_qubits)\n",
    "    for j in range(no_qubits):\n",
    "        ansatza5.rx(e[j],j)\n",
    "print(ansatza5.draw())"
   ]
  },
  {
   "cell_type": "markdown",
   "metadata": {},
   "source": [
    "#### Here we use $X_jX_{j+1}$ $Y_jY_{j+1}$ $Z_jZ_{j+1}$ connectivity (The Hamiltonian Itself) for n = 5 qubits"
   ]
  },
  {
   "cell_type": "code",
   "execution_count": 13,
   "metadata": {},
   "outputs": [
    {
     "name": "stdout",
     "output_type": "stream",
     "text": [
      "      »\n",
      "q4_0: »\n",
      "      »\n",
      "q4_1: »\n",
      "      »\n",
      "q4_2: »\n",
      "      »\n",
      "q4_3: »\n",
      "      »\n",
      "q4_4: »\n",
      "      »\n",
      "«      ┌──────────────────────────────────────────────────────────────────────────────────────────────────────────────────────────────────────────────────┐»\n",
      "«q4_0: ┤0                                                                                                                                                 ├»\n",
      "«      │                                                                                                                                                  │»\n",
      "«q4_1: ┤1                                                                                                                                                 ├»\n",
      "«      │                                                                                                                                                  │»\n",
      "«q4_2: ┤2 analog_block1(p0[0],5,[[[0, 1], [1, 2], [2, 3], [3, 4]], [[0, 1], [1, 2], [2, 3], [3, 4]], [[0, 1], [1, 2], [2, 3], [3, 4]]],p1[0],p1[1],p1[2]) ├»\n",
      "«      │                                                                                                                                                  │»\n",
      "«q4_3: ┤3                                                                                                                                                 ├»\n",
      "«      │                                                                                                                                                  │»\n",
      "«q4_4: ┤4                                                                                                                                                 ├»\n",
      "«      └──────────────────────────────────────────────────────────────────────────────────────────────────────────────────────────────────────────────────┘»\n",
      "«      ┌───────────┐┌───────────┐»\n",
      "«q4_0: ┤ Rx(p2[0]) ├┤ Ry(p3[0]) ├»\n",
      "«      ├───────────┤├───────────┤»\n",
      "«q4_1: ┤ Rx(p2[1]) ├┤ Ry(p3[1]) ├»\n",
      "«      ├───────────┤├───────────┤»\n",
      "«q4_2: ┤ Rx(p2[2]) ├┤ Ry(p3[2]) ├»\n",
      "«      ├───────────┤├───────────┤»\n",
      "«q4_3: ┤ Rx(p2[3]) ├┤ Ry(p3[3]) ├»\n",
      "«      ├───────────┤├───────────┤»\n",
      "«q4_4: ┤ Rx(p2[4]) ├┤ Ry(p3[4]) ├»\n",
      "«      └───────────┘└───────────┘»\n",
      "«      ┌──────────────────────────────────────────────────────────────────────────────────────────────────────────────────────────────────────────────────┐»\n",
      "«q4_0: ┤0                                                                                                                                                 ├»\n",
      "«      │                                                                                                                                                  │»\n",
      "«q4_1: ┤1                                                                                                                                                 ├»\n",
      "«      │                                                                                                                                                  │»\n",
      "«q4_2: ┤2 analog_block1(p4[0],5,[[[0, 1], [1, 2], [2, 3], [3, 4]], [[0, 1], [1, 2], [2, 3], [3, 4]], [[0, 1], [1, 2], [2, 3], [3, 4]]],p5[0],p5[1],p5[2]) ├»\n",
      "«      │                                                                                                                                                  │»\n",
      "«q4_3: ┤3                                                                                                                                                 ├»\n",
      "«      │                                                                                                                                                  │»\n",
      "«q4_4: ┤4                                                                                                                                                 ├»\n",
      "«      └──────────────────────────────────────────────────────────────────────────────────────────────────────────────────────────────────────────────────┘»\n",
      "«      ┌───────────┐┌───────────┐\n",
      "«q4_0: ┤ Rx(p6[0]) ├┤ Ry(p7[0]) ├\n",
      "«      ├───────────┤├───────────┤\n",
      "«q4_1: ┤ Rx(p6[1]) ├┤ Ry(p7[1]) ├\n",
      "«      ├───────────┤├───────────┤\n",
      "«q4_2: ┤ Rx(p6[2]) ├┤ Ry(p7[2]) ├\n",
      "«      ├───────────┤├───────────┤\n",
      "«q4_3: ┤ Rx(p6[3]) ├┤ Ry(p7[3]) ├\n",
      "«      ├───────────┤├───────────┤\n",
      "«q4_4: ┤ Rx(p6[4]) ├┤ Ry(p7[4]) ├\n",
      "«      └───────────┘└───────────┘\n"
     ]
    }
   ],
   "source": [
    "no_qubits = H2_op.num_qubits\n",
    "nlayers = 2\n",
    "# Create a quantum circuit that is used for the ansatz\n",
    "qra6 = QuantumRegister(no_qubits)\n",
    "ansatza6 = QuantumCircuit(qra6)\n",
    "tparamsa6 = []\n",
    "hparamsa6 = []\n",
    "#hmm = TwoLocal(num_qubits=H2_op.num_qubits,rotation_blocks=['rx','ry','rz'],entanglement_blocks=analog_block,reps=nlayers,insert_barriers=True)\n",
    "for i in range(nlayers):\n",
    "    tparamsa6.append(ParameterVector(f\"p{4*i}\",1))\n",
    "    hparamsa6.append(ParameterVector(f\"p{4*i+1}\",5))\n",
    "    ansatza6.custom_hamiltonian3(connectivity=[[[0,1],[1,2],[2,3],[3,4]],[[0,1],[1,2],[2,3],[3,4]],[[0,1],[1,2],[2,3],[3,4]]],h_coeff0=hparamsa6[-1][0],h_coeff1=hparamsa6[-1][1],h_coeff2=hparamsa6[-1][2],time=tparamsa6[-1][0],qubits=[qra6[i] for i in range(no_qubits)],label='analog_block1')\n",
    "    c = ParameterVector(f\"p{4*i+2}\",no_qubits)\n",
    "    for j in range(no_qubits):\n",
    "        ansatza6.rx(c[j],j)\n",
    "    e = ParameterVector(f\"p{4*i+3}\",no_qubits)\n",
    "    for j in range(no_qubits):\n",
    "        ansatza6.ry(e[j],j)\n",
    "print(ansatza6.draw())"
   ]
  },
  {
   "cell_type": "markdown",
   "metadata": {},
   "source": [
    "#### Here we use $X_jX_{j+1}$ $Y_jY_{j+1}$ $Z_jZ_{j+1}$ connectivity (The Hamiltonian Itself) along with Three rotation gates per layer for n = 5 qubits"
   ]
  },
  {
   "cell_type": "code",
   "execution_count": 14,
   "metadata": {},
   "outputs": [
    {
     "name": "stdout",
     "output_type": "stream",
     "text": [
      "      »\n",
      "q5_0: »\n",
      "      »\n",
      "q5_1: »\n",
      "      »\n",
      "q5_2: »\n",
      "      »\n",
      "q5_3: »\n",
      "      »\n",
      "q5_4: »\n",
      "      »\n",
      "«      ┌──────────────────────────────────────────────────────────────────────────────────────────────────────────────────────────────────────────────────┐»\n",
      "«q5_0: ┤0                                                                                                                                                 ├»\n",
      "«      │                                                                                                                                                  │»\n",
      "«q5_1: ┤1                                                                                                                                                 ├»\n",
      "«      │                                                                                                                                                  │»\n",
      "«q5_2: ┤2 analog_block1(p0[0],5,[[[0, 1], [1, 2], [2, 3], [3, 4]], [[0, 1], [1, 2], [2, 3], [3, 4]], [[0, 1], [1, 2], [2, 3], [3, 4]]],p1[0],p1[1],p1[2]) ├»\n",
      "«      │                                                                                                                                                  │»\n",
      "«q5_3: ┤3                                                                                                                                                 ├»\n",
      "«      │                                                                                                                                                  │»\n",
      "«q5_4: ┤4                                                                                                                                                 ├»\n",
      "«      └──────────────────────────────────────────────────────────────────────────────────────────────────────────────────────────────────────────────────┘»\n",
      "«      ┌───────────┐┌───────────┐┌───────────┐»\n",
      "«q5_0: ┤ Rx(p2[0]) ├┤ Rz(p3[0]) ├┤ Ry(p3[0]) ├»\n",
      "«      ├───────────┤├───────────┤├───────────┤»\n",
      "«q5_1: ┤ Rx(p2[1]) ├┤ Rz(p3[1]) ├┤ Ry(p3[1]) ├»\n",
      "«      ├───────────┤├───────────┤├───────────┤»\n",
      "«q5_2: ┤ Rx(p2[2]) ├┤ Rz(p3[2]) ├┤ Ry(p3[2]) ├»\n",
      "«      ├───────────┤├───────────┤├───────────┤»\n",
      "«q5_3: ┤ Rx(p2[3]) ├┤ Rz(p3[3]) ├┤ Ry(p3[3]) ├»\n",
      "«      ├───────────┤├───────────┤├───────────┤»\n",
      "«q5_4: ┤ Rx(p2[4]) ├┤ Rz(p3[4]) ├┤ Ry(p3[4]) ├»\n",
      "«      └───────────┘└───────────┘└───────────┘»\n",
      "«      ┌──────────────────────────────────────────────────────────────────────────────────────────────────────────────────────────────────────────────────┐»\n",
      "«q5_0: ┤0                                                                                                                                                 ├»\n",
      "«      │                                                                                                                                                  │»\n",
      "«q5_1: ┤1                                                                                                                                                 ├»\n",
      "«      │                                                                                                                                                  │»\n",
      "«q5_2: ┤2 analog_block1(p5[0],5,[[[0, 1], [1, 2], [2, 3], [3, 4]], [[0, 1], [1, 2], [2, 3], [3, 4]], [[0, 1], [1, 2], [2, 3], [3, 4]]],p6[0],p6[1],p6[2]) ├»\n",
      "«      │                                                                                                                                                  │»\n",
      "«q5_3: ┤3                                                                                                                                                 ├»\n",
      "«      │                                                                                                                                                  │»\n",
      "«q5_4: ┤4                                                                                                                                                 ├»\n",
      "«      └──────────────────────────────────────────────────────────────────────────────────────────────────────────────────────────────────────────────────┘»\n",
      "«      ┌───────────┐┌───────────┐┌───────────┐\n",
      "«q5_0: ┤ Rx(p7[0]) ├┤ Rz(p8[0]) ├┤ Ry(p8[0]) ├\n",
      "«      ├───────────┤├───────────┤├───────────┤\n",
      "«q5_1: ┤ Rx(p7[1]) ├┤ Rz(p8[1]) ├┤ Ry(p8[1]) ├\n",
      "«      ├───────────┤├───────────┤├───────────┤\n",
      "«q5_2: ┤ Rx(p7[2]) ├┤ Rz(p8[2]) ├┤ Ry(p8[2]) ├\n",
      "«      ├───────────┤├───────────┤├───────────┤\n",
      "«q5_3: ┤ Rx(p7[3]) ├┤ Rz(p8[3]) ├┤ Ry(p8[3]) ├\n",
      "«      ├───────────┤├───────────┤├───────────┤\n",
      "«q5_4: ┤ Rx(p7[4]) ├┤ Rz(p8[4]) ├┤ Ry(p8[4]) ├\n",
      "«      └───────────┘└───────────┘└───────────┘\n"
     ]
    }
   ],
   "source": [
    "no_qubits = H2_op.num_qubits\n",
    "nlayers = 2\n",
    "# Create a quantum circuit that is used for the ansatz\n",
    "qra7 = QuantumRegister(no_qubits)\n",
    "ansatza7 = QuantumCircuit(qra7)\n",
    "tparamsa7 = []\n",
    "hparamsa7 = []\n",
    "#hmm = TwoLocal(num_qubits=H2_op.num_qubits,rotation_blocks=['rx','ry','rz'],entanglement_blocks=analog_block,reps=nlayers,insert_barriers=True)\n",
    "for i in range(nlayers):\n",
    "    tparamsa7.append(ParameterVector(f\"p{5*i}\",1))\n",
    "    hparamsa7.append(ParameterVector(f\"p{5*i+1}\",5))\n",
    "    ansatza7.custom_hamiltonian3(connectivity=[[[0,1],[1,2],[2,3],[3,4]],[[0,1],[1,2],[2,3],[3,4]],[[0,1],[1,2],[2,3],[3,4]]],h_coeff0=hparamsa7[-1][0],h_coeff1=hparamsa7[-1][1],h_coeff2=hparamsa7[-1][2],time=tparamsa7[-1][0],qubits=[qra7[i] for i in range(no_qubits)],label='analog_block1')\n",
    "    c = ParameterVector(f\"p{5*i+2}\",no_qubits)\n",
    "    for j in range(no_qubits):\n",
    "        ansatza7.rx(c[j],j)\n",
    "    e = ParameterVector(f\"p{5*i+3}\",no_qubits)\n",
    "    for j in range(no_qubits):\n",
    "        ansatza7.rz(e[j],j)##\n",
    "    g = ParameterVector(f\"p{5*i+4}\",no_qubits)\n",
    "    for j in range(no_qubits):\n",
    "        ansatza7.ry(e[j],j)##\n",
    "print(ansatza7.draw())"
   ]
  },
  {
   "cell_type": "markdown",
   "metadata": {},
   "source": [
    "#### Here we use A linear $(Z_jZ_{j+1})$ connectivity along with Three rotation gates per layer for n = 5 qubits"
   ]
  },
  {
   "cell_type": "code",
   "execution_count": 15,
   "metadata": {},
   "outputs": [
    {
     "name": "stdout",
     "output_type": "stream",
     "text": [
      "      ┌───┐»\n",
      "q6_0: ┤ H ├»\n",
      "      ├───┤»\n",
      "q6_1: ┤ H ├»\n",
      "      ├───┤»\n",
      "q6_2: ┤ H ├»\n",
      "      ├───┤»\n",
      "q6_3: ┤ H ├»\n",
      "      ├───┤»\n",
      "q6_4: ┤ H ├»\n",
      "      └───┘»\n",
      "«      ┌───────────────────────────────────────────────────────────────────────────────────────┐»\n",
      "«q6_0: ┤0                                                                                      ├»\n",
      "«      │                                                                                       │»\n",
      "«q6_1: ┤1                                                                                      ├»\n",
      "«      │                                                                                       │»\n",
      "«q6_2: ┤2 analog_block(p0[0],5,[[0, 1], [1, 2], [2, 3], [3, 4]],p1[0],p1[1],p1[2],p1[3],p1[4]) ├»\n",
      "«      │                                                                                       │»\n",
      "«q6_3: ┤3                                                                                      ├»\n",
      "«      │                                                                                       │»\n",
      "«q6_4: ┤4                                                                                      ├»\n",
      "«      └───────────────────────────────────────────────────────────────────────────────────────┘»\n",
      "«      ┌───────────┐┌───────────┐┌───────────┐»\n",
      "«q6_0: ┤ Rx(p2[0]) ├┤ Ry(p3[0]) ├┤ Rz(p3[0]) ├»\n",
      "«      ├───────────┤├───────────┤├───────────┤»\n",
      "«q6_1: ┤ Rx(p2[1]) ├┤ Ry(p3[1]) ├┤ Rz(p3[1]) ├»\n",
      "«      ├───────────┤├───────────┤├───────────┤»\n",
      "«q6_2: ┤ Rx(p2[2]) ├┤ Ry(p3[2]) ├┤ Rz(p3[2]) ├»\n",
      "«      ├───────────┤├───────────┤├───────────┤»\n",
      "«q6_3: ┤ Rx(p2[3]) ├┤ Ry(p3[3]) ├┤ Rz(p3[3]) ├»\n",
      "«      ├───────────┤├───────────┤├───────────┤»\n",
      "«q6_4: ┤ Rx(p2[4]) ├┤ Ry(p3[4]) ├┤ Rz(p3[4]) ├»\n",
      "«      └───────────┘└───────────┘└───────────┘»\n",
      "«      ┌───────────────────────────────────────────────────────────────────────────────────────┐»\n",
      "«q6_0: ┤0                                                                                      ├»\n",
      "«      │                                                                                       │»\n",
      "«q6_1: ┤1                                                                                      ├»\n",
      "«      │                                                                                       │»\n",
      "«q6_2: ┤2 analog_block(p5[0],5,[[0, 1], [1, 2], [2, 3], [3, 4]],p6[0],p6[1],p6[2],p6[3],p6[4]) ├»\n",
      "«      │                                                                                       │»\n",
      "«q6_3: ┤3                                                                                      ├»\n",
      "«      │                                                                                       │»\n",
      "«q6_4: ┤4                                                                                      ├»\n",
      "«      └───────────────────────────────────────────────────────────────────────────────────────┘»\n",
      "«      ┌───────────┐┌───────────┐┌───────────┐\n",
      "«q6_0: ┤ Rx(p7[0]) ├┤ Ry(p8[0]) ├┤ Rz(p8[0]) ├\n",
      "«      ├───────────┤├───────────┤├───────────┤\n",
      "«q6_1: ┤ Rx(p7[1]) ├┤ Ry(p8[1]) ├┤ Rz(p8[1]) ├\n",
      "«      ├───────────┤├───────────┤├───────────┤\n",
      "«q6_2: ┤ Rx(p7[2]) ├┤ Ry(p8[2]) ├┤ Rz(p8[2]) ├\n",
      "«      ├───────────┤├───────────┤├───────────┤\n",
      "«q6_3: ┤ Rx(p7[3]) ├┤ Ry(p8[3]) ├┤ Rz(p8[3]) ├\n",
      "«      ├───────────┤├───────────┤├───────────┤\n",
      "«q6_4: ┤ Rx(p7[4]) ├┤ Ry(p8[4]) ├┤ Rz(p8[4]) ├\n",
      "«      └───────────┘└───────────┘└───────────┘\n"
     ]
    }
   ],
   "source": [
    "no_qubits = H2_op.num_qubits\n",
    "nlayers = 2\n",
    "# Create a quantum circuit that is used for the ansatz\n",
    "qra8 = QuantumRegister(no_qubits)\n",
    "ansatza8 = QuantumCircuit(qra8)\n",
    "tparamsa8 = []\n",
    "hparamsa8 = []\n",
    "#hmm = TwoLocal(num_qubits=H2_op.num_qubits,rotation_blocks=['rx','ry','rz'],entanglement_blocks=analog_block,reps=nlayers,insert_barriers=True)\n",
    "for j in range(no_qubits):\n",
    "        ansatza8.h(j)\n",
    "for i in range(nlayers):\n",
    "    tparamsa8.append(ParameterVector(f\"p{5*i}\",1))\n",
    "    hparamsa8.append(ParameterVector(f\"p{5*i+1}\",5))\n",
    "    ansatza8.custom_hamiltonian(connectivity=[[0,1],[1,2],[2,3],[3,4]],h_coeff0=hparamsa8[-1][0],h_coeff1=hparamsa8[-1][1],h_coeff2=hparamsa8[-1][2],h_coeff3=hparamsa8[-1][3],h_coeff4=hparamsa8[-1][4],time=tparamsa8[-1][0],qubits=[qra8[i] for i in range(no_qubits)],label='analog_block')\n",
    "    c = ParameterVector(f\"p{5*i+2}\",no_qubits)\n",
    "    for j in range(no_qubits):\n",
    "        ansatza8.rx(c[j],j)\n",
    "    e = ParameterVector(f\"p{5*i+3}\",no_qubits)\n",
    "    for j in range(no_qubits):\n",
    "        ansatza8.ry(e[j],j)\n",
    "    g = ParameterVector(f\"p{5*i+4}\",no_qubits)\n",
    "    for j in range(no_qubits):\n",
    "        ansatza8.rz(e[j],j)\n",
    "print(ansatza8.draw())"
   ]
  },
  {
   "cell_type": "markdown",
   "metadata": {},
   "source": [
    "#### Here we use A linear $(Z_jZ_{j+1})$ connectivity along with $(Z_{j+1}Z_{j})$ (basically the same as $Z_{j}Z_{j+1}$ because they commute) sandwiching single qubit rotation gates in between for n = 5 qubits (h_coefficients were all set to 1) (taken the same time parameter for both analog gates)"
   ]
  },
  {
   "cell_type": "code",
   "execution_count": 66,
   "metadata": {},
   "outputs": [
    {
     "name": "stdout",
     "output_type": "stream",
     "text": [
      "           ┌───┐»\n",
      "q371732_0: ┤ H ├»\n",
      "           ├───┤»\n",
      "q371732_1: ┤ H ├»\n",
      "           ├───┤»\n",
      "q371732_2: ┤ H ├»\n",
      "           ├───┤»\n",
      "q371732_3: ┤ H ├»\n",
      "           ├───┤»\n",
      "q371732_4: ┤ H ├»\n",
      "           └───┘»\n",
      "«           ┌───────────────────────────────────────────────────────────────────┐»\n",
      "«q371732_0: ┤0                                                                  ├»\n",
      "«           │                                                                   │»\n",
      "«q371732_1: ┤1                                                                  ├»\n",
      "«           │                                                                   │»\n",
      "«q371732_2: ┤2 analog_block(p0[0],5,[[0, 1], [1, 2], [2, 3], [3, 4]],1,1,1,1,1) ├»\n",
      "«           │                                                                   │»\n",
      "«q371732_3: ┤3                                                                  ├»\n",
      "«           │                                                                   │»\n",
      "«q371732_4: ┤4                                                                  ├»\n",
      "«           └───────────────────────────────────────────────────────────────────┘»\n",
      "«           ┌───────────┐┌───────────┐»\n",
      "«q371732_0: ┤ Rz(p2[0]) ├┤ Rx(p3[0]) ├»\n",
      "«           ├───────────┤├───────────┤»\n",
      "«q371732_1: ┤ Rz(p2[1]) ├┤ Rx(p3[1]) ├»\n",
      "«           ├───────────┤├───────────┤»\n",
      "«q371732_2: ┤ Rz(p2[2]) ├┤ Rx(p3[2]) ├»\n",
      "«           ├───────────┤├───────────┤»\n",
      "«q371732_3: ┤ Rz(p2[3]) ├┤ Rx(p3[3]) ├»\n",
      "«           ├───────────┤├───────────┤»\n",
      "«q371732_4: ┤ Rz(p2[4]) ├┤ Rx(p3[4]) ├»\n",
      "«           └───────────┘└───────────┘»\n",
      "«           ┌───────────────────────────────────────────────────────────────────┐»\n",
      "«q371732_0: ┤0                                                                  ├»\n",
      "«           │                                                                   │»\n",
      "«q371732_1: ┤1                                                                  ├»\n",
      "«           │                                                                   │»\n",
      "«q371732_2: ┤2 analog_block(p0[0],5,[[4, 3], [3, 2], [2, 1], [1, 0]],1,1,1,1,1) ├»\n",
      "«           │                                                                   │»\n",
      "«q371732_3: ┤3                                                                  ├»\n",
      "«           │                                                                   │»\n",
      "«q371732_4: ┤4                                                                  ├»\n",
      "«           └───────────────────────────────────────────────────────────────────┘»\n",
      "«           ┌───────────┐┌───────────┐\n",
      "«q371732_0: ┤ Rz(p5[0]) ├┤ Rx(p6[0]) ├\n",
      "«           ├───────────┤├───────────┤\n",
      "«q371732_1: ┤ Rz(p5[1]) ├┤ Rx(p6[1]) ├\n",
      "«           ├───────────┤├───────────┤\n",
      "«q371732_2: ┤ Rz(p5[2]) ├┤ Rx(p6[2]) ├\n",
      "«           ├───────────┤├───────────┤\n",
      "«q371732_3: ┤ Rz(p5[3]) ├┤ Rx(p6[3]) ├\n",
      "«           ├───────────┤├───────────┤\n",
      "«q371732_4: ┤ Rz(p5[4]) ├┤ Rx(p6[4]) ├\n",
      "«           └───────────┘└───────────┘\n"
     ]
    }
   ],
   "source": [
    "no_qubits = H2_op.num_qubits\n",
    "nlayers = 1\n",
    "# Create a quantum circuit that is used for the ansatz\n",
    "qra9 = QuantumRegister(no_qubits)\n",
    "ansatza9 = QuantumCircuit(qra9)\n",
    "tparamsa9 = []\n",
    "hparamsa9 = []\n",
    "#hmm = TwoLocal(num_qubits=H2_op.num_qubits,rotation_blocks=['rx','ry','rz'],entanglement_blocks=analog_block,reps=nlayers,insert_barriers=True)\n",
    "for j in range(no_qubits):\n",
    "        ansatza9.h(j)\n",
    "for i in range(nlayers):\n",
    "    tparamsa9.append(ParameterVector(f\"p{7*i}\",1))\n",
    "    hparamsa9.append(ParameterVector(f\"p{7*i+1}\",5))\n",
    "    ansatza9.custom_hamiltonian(connectivity=[[0,1],[1,2],[2,3],[3,4]],h_coeff0=1,h_coeff1=1,h_coeff2=1,h_coeff3=1,h_coeff4=1,time=tparamsa9[-1][0],qubits=[qra9[i] for i in range(no_qubits)],label='analog_block')\n",
    "    c = ParameterVector(f\"p{7*i+2}\",no_qubits)\n",
    "    for j in range(no_qubits):\n",
    "        ansatza9.rz(c[j],j)\n",
    "    e = ParameterVector(f\"p{7*i+3}\",no_qubits)\n",
    "    for j in range(no_qubits):\n",
    "        ansatza9.rx(e[j],j)\n",
    "    hparamsa9.append(ParameterVector(f\"p{7*i+4}\",5))\n",
    "    ansatza9.custom_hamiltonian(connectivity=[[4,3],[3,2],[2,1],[1,0]],h_coeff0=1,h_coeff1=1,h_coeff2=1,h_coeff3=1,h_coeff4=1,time=tparamsa9[-1][0],qubits=[qra9[i] for i in range(no_qubits)],label='analog_block')\n",
    "    c = ParameterVector(f\"p{7*i+5}\",no_qubits)\n",
    "    for j in range(no_qubits):\n",
    "        ansatza9.rz(c[j],j)\n",
    "    e = ParameterVector(f\"p{7*i+6}\",no_qubits)\n",
    "    for j in range(no_qubits):\n",
    "        ansatza9.rx(e[j],j)\n",
    "print(ansatza9.draw())"
   ]
  },
  {
   "cell_type": "markdown",
   "metadata": {},
   "source": [
    "#### Here we use A linear $(Z_jZ_{j+1}Z_{j+2})$ connectivity for n = 5 qubits"
   ]
  },
  {
   "cell_type": "code",
   "execution_count": 17,
   "metadata": {},
   "outputs": [
    {
     "name": "stdout",
     "output_type": "stream",
     "text": [
      "      »\n",
      "q8_0: »\n",
      "      »\n",
      "q8_1: »\n",
      "      »\n",
      "q8_2: »\n",
      "      »\n",
      "q8_3: »\n",
      "      »\n",
      "q8_4: »\n",
      "      »\n",
      "«      ┌─────────────────────────────────────────────────────────────────────────────┐»\n",
      "«q8_0: ┤0                                                                            ├»\n",
      "«      │                                                                             │»\n",
      "«q8_1: ┤1                                                                            ├»\n",
      "«      │                                                                             │»\n",
      "«q8_2: ┤2 analog_block1(p0[0],5,[[], [[0, 1, 2], [1, 2, 3], [2, 3, 4]]],p1[0],p1[1]) ├»\n",
      "«      │                                                                             │»\n",
      "«q8_3: ┤3                                                                            ├»\n",
      "«      │                                                                             │»\n",
      "«q8_4: ┤4                                                                            ├»\n",
      "«      └─────────────────────────────────────────────────────────────────────────────┘»\n",
      "«      ┌───────────┐┌───────────┐»\n",
      "«q8_0: ┤ Rz(p2[0]) ├┤ Rx(p3[0]) ├»\n",
      "«      ├───────────┤├───────────┤»\n",
      "«q8_1: ┤ Rz(p2[1]) ├┤ Rx(p3[1]) ├»\n",
      "«      ├───────────┤├───────────┤»\n",
      "«q8_2: ┤ Rz(p2[2]) ├┤ Rx(p3[2]) ├»\n",
      "«      ├───────────┤├───────────┤»\n",
      "«q8_3: ┤ Rz(p2[3]) ├┤ Rx(p3[3]) ├»\n",
      "«      ├───────────┤├───────────┤»\n",
      "«q8_4: ┤ Rz(p2[4]) ├┤ Rx(p3[4]) ├»\n",
      "«      └───────────┘└───────────┘»\n",
      "«      ┌─────────────────────────────────────────────────────────────────────────────┐»\n",
      "«q8_0: ┤0                                                                            ├»\n",
      "«      │                                                                             │»\n",
      "«q8_1: ┤1                                                                            ├»\n",
      "«      │                                                                             │»\n",
      "«q8_2: ┤2 analog_block1(p4[0],5,[[], [[0, 1, 2], [1, 2, 3], [2, 3, 4]]],p5[0],p5[1]) ├»\n",
      "«      │                                                                             │»\n",
      "«q8_3: ┤3                                                                            ├»\n",
      "«      │                                                                             │»\n",
      "«q8_4: ┤4                                                                            ├»\n",
      "«      └─────────────────────────────────────────────────────────────────────────────┘»\n",
      "«      ┌───────────┐┌───────────┐\n",
      "«q8_0: ┤ Rz(p6[0]) ├┤ Rx(p7[0]) ├\n",
      "«      ├───────────┤├───────────┤\n",
      "«q8_1: ┤ Rz(p6[1]) ├┤ Rx(p7[1]) ├\n",
      "«      ├───────────┤├───────────┤\n",
      "«q8_2: ┤ Rz(p6[2]) ├┤ Rx(p7[2]) ├\n",
      "«      ├───────────┤├───────────┤\n",
      "«q8_3: ┤ Rz(p6[3]) ├┤ Rx(p7[3]) ├\n",
      "«      ├───────────┤├───────────┤\n",
      "«q8_4: ┤ Rz(p6[4]) ├┤ Rx(p7[4]) ├\n",
      "«      └───────────┘└───────────┘\n"
     ]
    }
   ],
   "source": [
    "no_qubits = H2_op.num_qubits\n",
    "nlayers = 2\n",
    "# Create a quantum circuit that is used for the ansatz\n",
    "qra10 = QuantumRegister(no_qubits)\n",
    "ansatza10 = QuantumCircuit(qra10)\n",
    "tparamsa10 = []\n",
    "hparamsa10 = []\n",
    "#hmm = TwoLocal(num_qubits=H2_op.num_qubits,rotation_blocks=['rx','ry','rz'],entanglement_blocks=analog_block,reps=nlayers,insert_barriers=True)\n",
    "for i in range(nlayers):\n",
    "    tparamsa10.append(ParameterVector(f\"p{4*i}\",1))\n",
    "    hparamsa10.append(ParameterVector(f\"p{4*i+1}\",2))\n",
    "    ansatza10.custom_hamiltonian2(connectivity=[[],[[0,1,2],[1,2,3],[2,3,4]]],h_coeff0=hparamsa10[-1][0],h_coeff1=hparamsa10[-1][1],time=tparamsa10[-1][0],qubits=[qra10[i] for i in range(no_qubits)],label='analog_block1')\n",
    "    c = ParameterVector(f\"p{4*i+2}\",no_qubits)\n",
    "    for j in range(no_qubits):\n",
    "        ansatza10.rz(c[j],j)\n",
    "    e = ParameterVector(f\"p{4*i+3}\",no_qubits)\n",
    "    for j in range(no_qubits):\n",
    "        ansatza10.rx(e[j],j)\n",
    "print(ansatza10.draw())"
   ]
  },
  {
   "cell_type": "code",
   "execution_count": 33,
   "metadata": {},
   "outputs": [
    {
     "name": "stdout",
     "output_type": "stream",
     "text": [
      "          ┌───┐»\n",
      "q43408_0: ┤ H ├»\n",
      "          ├───┤»\n",
      "q43408_1: ┤ H ├»\n",
      "          ├───┤»\n",
      "q43408_2: ┤ H ├»\n",
      "          ├───┤»\n",
      "q43408_3: ┤ H ├»\n",
      "          ├───┤»\n",
      "q43408_4: ┤ H ├»\n",
      "          └───┘»\n",
      "«          ┌──────────────────────────────────────────────────────────────────────────────────────────────────┐»\n",
      "«q43408_0: ┤0                                                                                                 ├»\n",
      "«          │                                                                                                  │»\n",
      "«q43408_1: ┤1                                                                                                 ├»\n",
      "«          │                                                                                                  │»\n",
      "«q43408_2: ┤2 analog_block(p0[0],5,[[[0, 1], [1, 2], [2, 3], [3, 4]], [[0, 1, 2], [1, 2, 3], [2, 3, 4]]],1,1) ├»\n",
      "«          │                                                                                                  │»\n",
      "«q43408_3: ┤3                                                                                                 ├»\n",
      "«          │                                                                                                  │»\n",
      "«q43408_4: ┤4                                                                                                 ├»\n",
      "«          └──────────────────────────────────────────────────────────────────────────────────────────────────┘»\n",
      "«          ┌───────────┐┌───────────┐»\n",
      "«q43408_0: ┤ Rz(p2[0]) ├┤ Rx(p3[0]) ├»\n",
      "«          ├───────────┤├───────────┤»\n",
      "«q43408_1: ┤ Rz(p2[1]) ├┤ Rx(p3[1]) ├»\n",
      "«          ├───────────┤├───────────┤»\n",
      "«q43408_2: ┤ Rz(p2[2]) ├┤ Rx(p3[2]) ├»\n",
      "«          ├───────────┤├───────────┤»\n",
      "«q43408_3: ┤ Rz(p2[3]) ├┤ Rx(p3[3]) ├»\n",
      "«          ├───────────┤├───────────┤»\n",
      "«q43408_4: ┤ Rz(p2[4]) ├┤ Rx(p3[4]) ├»\n",
      "«          └───────────┘└───────────┘»\n",
      "«          ┌─────────────────────────────────────────────────────────────────────────────────────────────────────────────────────────────────────┐»\n",
      "«q43408_0: ┤0                                                                                                                                    ├»\n",
      "«          │                                                                                                                                     │»\n",
      "«q43408_1: ┤1                                                                                                                                    ├»\n",
      "«          │                                                                                                                                     │»\n",
      "«q43408_2: ┤2 analog_block(p4[0],5,[[[0, 1], [1, 2], [2, 3], [3, 4]], [[0, 1], [1, 2], [2, 3], [3, 4]], [[0, 1], [1, 2], [2, 3], [3, 4]]],1,1,1) ├»\n",
      "«          │                                                                                                                                     │»\n",
      "«q43408_3: ┤3                                                                                                                                    ├»\n",
      "«          │                                                                                                                                     │»\n",
      "«q43408_4: ┤4                                                                                                                                    ├»\n",
      "«          └─────────────────────────────────────────────────────────────────────────────────────────────────────────────────────────────────────┘»\n",
      "«          ┌───────────┐┌───────────┐\n",
      "«q43408_0: ┤ Rz(p6[0]) ├┤ Rx(p7[0]) ├\n",
      "«          ├───────────┤├───────────┤\n",
      "«q43408_1: ┤ Rz(p6[1]) ├┤ Rx(p7[1]) ├\n",
      "«          ├───────────┤├───────────┤\n",
      "«q43408_2: ┤ Rz(p6[2]) ├┤ Rx(p7[2]) ├\n",
      "«          ├───────────┤├───────────┤\n",
      "«q43408_3: ┤ Rz(p6[3]) ├┤ Rx(p7[3]) ├\n",
      "«          ├───────────┤├───────────┤\n",
      "«q43408_4: ┤ Rz(p6[4]) ├┤ Rx(p7[4]) ├\n",
      "«          └───────────┘└───────────┘\n"
     ]
    }
   ],
   "source": [
    "no_qubits = H2_op.num_qubits\n",
    "nlayers = 1\n",
    "# Create a quantum circuit that is used for the ansatz\n",
    "qra11 = QuantumRegister(no_qubits)\n",
    "ansatza11 = QuantumCircuit(qra11)\n",
    "tparamsa11 = []\n",
    "hparamsa11 = []\n",
    "#hmm = TwoLocal(num_qubits=H2_op.num_qubits,rotation_blocks=['rx','ry','rz'],entanglement_blocks=analog_block,reps=nlayers,insert_barriers=True)\n",
    "for j in range(no_qubits):\n",
    "        ansatza11.h(j)\n",
    "for i in range(nlayers):\n",
    "    tparamsa11.append(ParameterVector(f\"p{8*i}\",1))\n",
    "    hparamsa11.append(ParameterVector(f\"p{8*i+1}\",5))\n",
    "    ansatza11.custom_hamiltonian2(connectivity=[[[0,1],[1,2],[2,3],[3,4]],[[0,1,2],[1,2,3],[2,3,4]]],h_coeff0=1,h_coeff1=1,time=tparamsa11[-1][0],qubits=[qra11[i] for i in range(no_qubits)],label='analog_block')\n",
    "    c = ParameterVector(f\"p{8*i+2}\",no_qubits)\n",
    "    for j in range(no_qubits):\n",
    "        ansatza11.rz(c[j],j)\n",
    "    e = ParameterVector(f\"p{8*i+3}\",no_qubits)\n",
    "    for j in range(no_qubits):\n",
    "        ansatza11.rx(e[j],j)\n",
    "    tparamsa11.append(ParameterVector(f\"p{8*i+4}\",1))\n",
    "    hparamsa11.append(ParameterVector(f\"p{8*i+5}\",5))\n",
    "    ansatza11.custom_hamiltonian3(connectivity=[[[0,1],[1,2],[2,3],[3,4]],[[0,1],[1,2],[2,3],[3,4]],[[0,1],[1,2],[2,3],[3,4]]],h_coeff0=1,h_coeff1=1,h_coeff2=1,time=tparamsa11[-1][0],qubits=[qra11[i] for i in range(no_qubits)],label='analog_block')\n",
    "    c = ParameterVector(f\"p{8*i+6}\",no_qubits)\n",
    "    for j in range(no_qubits):\n",
    "        ansatza11.rz(c[j],j)\n",
    "    e = ParameterVector(f\"p{8*i+7}\",no_qubits)\n",
    "    for j in range(no_qubits):\n",
    "        ansatza11.rx(e[j],j)\n",
    "print(ansatza11.draw())"
   ]
  },
  {
   "cell_type": "markdown",
   "metadata": {},
   "source": [
    "#### Here we use A star connectivity connectivity for n = 5 qubits\n",
    "                            x\n",
    "                            |\n",
    "                          x-x-x\n",
    "                            |\n",
    "                            x"
   ]
  },
  {
   "cell_type": "code",
   "execution_count": 19,
   "metadata": {},
   "outputs": [
    {
     "name": "stdout",
     "output_type": "stream",
     "text": [
      "       »\n",
      "q10_0: »\n",
      "       »\n",
      "q10_1: »\n",
      "       »\n",
      "q10_2: »\n",
      "       »\n",
      "q10_3: »\n",
      "       »\n",
      "q10_4: »\n",
      "       »\n",
      "«       ┌───────────────────────────────────────────────────────────────────────────────────────┐»\n",
      "«q10_0: ┤0                                                                                      ├»\n",
      "«       │                                                                                       │»\n",
      "«q10_1: ┤1                                                                                      ├»\n",
      "«       │                                                                                       │»\n",
      "«q10_2: ┤2 analog_block(p0[0],5,[[1, 0], [1, 2], [1, 3], [1, 4]],p1[0],p1[1],p1[2],p1[3],p1[4]) ├»\n",
      "«       │                                                                                       │»\n",
      "«q10_3: ┤3                                                                                      ├»\n",
      "«       │                                                                                       │»\n",
      "«q10_4: ┤4                                                                                      ├»\n",
      "«       └───────────────────────────────────────────────────────────────────────────────────────┘»\n",
      "«       ┌───────────┐┌───────────┐»\n",
      "«q10_0: ┤ Rx(p2[0]) ├┤ Rz(p3[0]) ├»\n",
      "«       ├───────────┤├───────────┤»\n",
      "«q10_1: ┤ Rx(p2[1]) ├┤ Rz(p3[1]) ├»\n",
      "«       ├───────────┤├───────────┤»\n",
      "«q10_2: ┤ Rx(p2[2]) ├┤ Rz(p3[2]) ├»\n",
      "«       ├───────────┤├───────────┤»\n",
      "«q10_3: ┤ Rx(p2[3]) ├┤ Rz(p3[3]) ├»\n",
      "«       ├───────────┤├───────────┤»\n",
      "«q10_4: ┤ Rx(p2[4]) ├┤ Rz(p3[4]) ├»\n",
      "«       └───────────┘└───────────┘»\n",
      "«       ┌───────────────────────────────────────────────────────────────────────────────────────┐»\n",
      "«q10_0: ┤0                                                                                      ├»\n",
      "«       │                                                                                       │»\n",
      "«q10_1: ┤1                                                                                      ├»\n",
      "«       │                                                                                       │»\n",
      "«q10_2: ┤2 analog_block(p4[0],5,[[1, 0], [1, 2], [1, 3], [1, 4]],p5[0],p5[1],p5[2],p5[3],p5[4]) ├»\n",
      "«       │                                                                                       │»\n",
      "«q10_3: ┤3                                                                                      ├»\n",
      "«       │                                                                                       │»\n",
      "«q10_4: ┤4                                                                                      ├»\n",
      "«       └───────────────────────────────────────────────────────────────────────────────────────┘»\n",
      "«       ┌───────────┐┌───────────┐\n",
      "«q10_0: ┤ Rx(p6[0]) ├┤ Rz(p7[0]) ├\n",
      "«       ├───────────┤├───────────┤\n",
      "«q10_1: ┤ Rx(p6[1]) ├┤ Rz(p7[1]) ├\n",
      "«       ├───────────┤├───────────┤\n",
      "«q10_2: ┤ Rx(p6[2]) ├┤ Rz(p7[2]) ├\n",
      "«       ├───────────┤├───────────┤\n",
      "«q10_3: ┤ Rx(p6[3]) ├┤ Rz(p7[3]) ├\n",
      "«       ├───────────┤├───────────┤\n",
      "«q10_4: ┤ Rx(p6[4]) ├┤ Rz(p7[4]) ├\n",
      "«       └───────────┘└───────────┘\n"
     ]
    }
   ],
   "source": [
    "no_qubits = H2_op.num_qubits\n",
    "nlayers = 2\n",
    "# Create a quantum circuit that is used for the ansatz\n",
    "qra1 = QuantumRegister(no_qubits)\n",
    "ansatza1 = QuantumCircuit(qra1)\n",
    "tparamsa1 = []\n",
    "hparamsa1 = []\n",
    "#hmm = TwoLocal(num_qubits=H2_op.num_qubits,rotation_blocks=['rx','ry','rz'],entanglement_blocks=analog_block,reps=nlayers,insert_barriers=True)\n",
    "for i in range(nlayers):\n",
    "    tparamsa1.append(ParameterVector(f\"p{4*i}\",1))\n",
    "    hparamsa1.append(ParameterVector(f\"p{4*i+1}\",5))\n",
    "    ansatza1.custom_hamiltonian(connectivity=[[1,0],[1,2],[1,3],[1,4]],h_coeff0=hparamsa1[-1][0],h_coeff1=hparamsa1[-1][1],h_coeff2=hparamsa1[-1][2],h_coeff3=hparamsa1[-1][3],h_coeff4=hparamsa1[-1][4],time=tparamsa1[-1][0],qubits=[qra1[i] for i in range(no_qubits)],label='analog_block')\n",
    "    c = ParameterVector(f\"p{4*i+2}\",no_qubits)\n",
    "    for j in range(no_qubits):\n",
    "        ansatza1.rx(c[j],j)\n",
    "    e = ParameterVector(f\"p{4*i+3}\",no_qubits)\n",
    "    for j in range(no_qubits):\n",
    "        ansatza1.rz(e[j],j)\n",
    "print(ansatza1.draw())"
   ]
  },
  {
   "cell_type": "markdown",
   "metadata": {},
   "source": [
    "#### Here we use A linear $(Z_jZ_{j+1})$ along with the additional Star connectivity for n = 5 qubits"
   ]
  },
  {
   "cell_type": "code",
   "execution_count": 20,
   "metadata": {},
   "outputs": [
    {
     "name": "stdout",
     "output_type": "stream",
     "text": [
      "       »\n",
      "q11_0: »\n",
      "       »\n",
      "q11_1: »\n",
      "       »\n",
      "q11_2: »\n",
      "       »\n",
      "q11_3: »\n",
      "       »\n",
      "q11_4: »\n",
      "       »\n",
      "«       ┌───────────────────────────────────────────────────────────────────────────────────────┐»\n",
      "«q11_0: ┤0                                                                                      ├»\n",
      "«       │                                                                                       │»\n",
      "«q11_1: ┤1                                                                                      ├»\n",
      "«       │                                                                                       │»\n",
      "«q11_2: ┤2 analog_block(p0[0],5,[[1, 0], [1, 2], [1, 3], [1, 4]],p1[0],p1[1],p1[2],p1[3],p1[4]) ├»\n",
      "«       │                                                                                       │»\n",
      "«q11_3: ┤3                                                                                      ├»\n",
      "«       │                                                                                       │»\n",
      "«q11_4: ┤4                                                                                      ├»\n",
      "«       └───────────────────────────────────────────────────────────────────────────────────────┘»\n",
      "«       ┌───────────┐┌───────────┐»\n",
      "«q11_0: ┤ Rx(p2[0]) ├┤ Rz(p3[0]) ├»\n",
      "«       ├───────────┤├───────────┤»\n",
      "«q11_1: ┤ Rx(p2[1]) ├┤ Rz(p3[1]) ├»\n",
      "«       ├───────────┤├───────────┤»\n",
      "«q11_2: ┤ Rx(p2[2]) ├┤ Rz(p3[2]) ├»\n",
      "«       ├───────────┤├───────────┤»\n",
      "«q11_3: ┤ Rx(p2[3]) ├┤ Rz(p3[3]) ├»\n",
      "«       ├───────────┤├───────────┤»\n",
      "«q11_4: ┤ Rx(p2[4]) ├┤ Rz(p3[4]) ├»\n",
      "«       └───────────┘└───────────┘»\n",
      "«       ┌───────────────────────────────────────────────────────────────────────────────────────┐»\n",
      "«q11_0: ┤0                                                                                      ├»\n",
      "«       │                                                                                       │»\n",
      "«q11_1: ┤1                                                                                      ├»\n",
      "«       │                                                                                       │»\n",
      "«q11_2: ┤2 analog_block(p4[0],5,[[0, 1], [1, 2], [2, 3], [3, 4]],p5[0],p5[1],p5[2],p5[3],p5[4]) ├»\n",
      "«       │                                                                                       │»\n",
      "«q11_3: ┤3                                                                                      ├»\n",
      "«       │                                                                                       │»\n",
      "«q11_4: ┤4                                                                                      ├»\n",
      "«       └───────────────────────────────────────────────────────────────────────────────────────┘»\n",
      "«       ┌───────────┐┌───────────┐»\n",
      "«q11_0: ┤ Rx(p6[0]) ├┤ Rz(p7[0]) ├»\n",
      "«       ├───────────┤├───────────┤»\n",
      "«q11_1: ┤ Rx(p6[1]) ├┤ Rz(p7[1]) ├»\n",
      "«       ├───────────┤├───────────┤»\n",
      "«q11_2: ┤ Rx(p6[2]) ├┤ Rz(p7[2]) ├»\n",
      "«       ├───────────┤├───────────┤»\n",
      "«q11_3: ┤ Rx(p6[3]) ├┤ Rz(p7[3]) ├»\n",
      "«       ├───────────┤├───────────┤»\n",
      "«q11_4: ┤ Rx(p6[4]) ├┤ Rz(p7[4]) ├»\n",
      "«       └───────────┘└───────────┘»\n",
      "«       ┌───────────────────────────────────────────────────────────────────────────────────────┐»\n",
      "«q11_0: ┤0                                                                                      ├»\n",
      "«       │                                                                                       │»\n",
      "«q11_1: ┤1                                                                                      ├»\n",
      "«       │                                                                                       │»\n",
      "«q11_2: ┤2 analog_block(p8[0],5,[[1, 0], [1, 2], [1, 3], [1, 4]],p9[0],p9[1],p9[2],p9[3],p9[4]) ├»\n",
      "«       │                                                                                       │»\n",
      "«q11_3: ┤3                                                                                      ├»\n",
      "«       │                                                                                       │»\n",
      "«q11_4: ┤4                                                                                      ├»\n",
      "«       └───────────────────────────────────────────────────────────────────────────────────────┘»\n",
      "«       ┌────────────┐┌────────────┐»\n",
      "«q11_0: ┤ Rx(p10[0]) ├┤ Rz(p11[0]) ├»\n",
      "«       ├────────────┤├────────────┤»\n",
      "«q11_1: ┤ Rx(p10[1]) ├┤ Rz(p11[1]) ├»\n",
      "«       ├────────────┤├────────────┤»\n",
      "«q11_2: ┤ Rx(p10[2]) ├┤ Rz(p11[2]) ├»\n",
      "«       ├────────────┤├────────────┤»\n",
      "«q11_3: ┤ Rx(p10[3]) ├┤ Rz(p11[3]) ├»\n",
      "«       ├────────────┤├────────────┤»\n",
      "«q11_4: ┤ Rx(p10[4]) ├┤ Rz(p11[4]) ├»\n",
      "«       └────────────┘└────────────┘»\n",
      "«       ┌─────────────────────────────────────────────────────────────────────────────────────────────┐»\n",
      "«q11_0: ┤0                                                                                            ├»\n",
      "«       │                                                                                             │»\n",
      "«q11_1: ┤1                                                                                            ├»\n",
      "«       │                                                                                             │»\n",
      "«q11_2: ┤2 analog_block(p12[0],5,[[0, 1], [1, 2], [2, 3], [3, 4]],p13[0],p13[1],p13[2],p13[3],p13[4]) ├»\n",
      "«       │                                                                                             │»\n",
      "«q11_3: ┤3                                                                                            ├»\n",
      "«       │                                                                                             │»\n",
      "«q11_4: ┤4                                                                                            ├»\n",
      "«       └─────────────────────────────────────────────────────────────────────────────────────────────┘»\n",
      "«       ┌────────────┐┌────────────┐\n",
      "«q11_0: ┤ Rx(p14[0]) ├┤ Rz(p15[0]) ├\n",
      "«       ├────────────┤├────────────┤\n",
      "«q11_1: ┤ Rx(p14[1]) ├┤ Rz(p15[1]) ├\n",
      "«       ├────────────┤├────────────┤\n",
      "«q11_2: ┤ Rx(p14[2]) ├┤ Rz(p15[2]) ├\n",
      "«       ├────────────┤├────────────┤\n",
      "«q11_3: ┤ Rx(p14[3]) ├┤ Rz(p15[3]) ├\n",
      "«       ├────────────┤├────────────┤\n",
      "«q11_4: ┤ Rx(p14[4]) ├┤ Rz(p15[4]) ├\n",
      "«       └────────────┘└────────────┘\n"
     ]
    }
   ],
   "source": [
    "no_qubits = H2_op.num_qubits\n",
    "nlayers = 2\n",
    "# Create a quantum circuit that is used for the ansatz\n",
    "qra2 = QuantumRegister(no_qubits)\n",
    "ansatza2 = QuantumCircuit(qra2)\n",
    "tparamsa2 = []\n",
    "hparamsa2 = []\n",
    "#hmm = TwoLocal(num_qubits=H2_op.num_qubits,rotation_blocks=['rx','ry','rz'],entanglement_blocks=analog_block,reps=nlayers,insert_barriers=True)\n",
    "for i in range(nlayers):\n",
    "    tparamsa2.append(ParameterVector(f\"p{8*i}\",1))\n",
    "    hparamsa2.append(ParameterVector(f\"p{8*i+1}\",5))\n",
    "    ansatza2.custom_hamiltonian(connectivity=[[1,0],[1,2],[1,3],[1,4]],h_coeff0=hparamsa2[-1][0],h_coeff1=hparamsa2[-1][1],h_coeff2=hparamsa2[-1][2],h_coeff3=hparamsa2[-1][3],h_coeff4=hparamsa2[-1][4],time=tparamsa2[-1][0],qubits=[qra2[i] for i in range(no_qubits)],label='analog_block')\n",
    "    c = ParameterVector(f\"p{8*i+2}\",no_qubits)\n",
    "    for j in range(no_qubits):\n",
    "        ansatza2.rx(c[j],j)\n",
    "    e = ParameterVector(f\"p{8*i+3}\",no_qubits)\n",
    "    for j in range(no_qubits):\n",
    "        ansatza2.rz(e[j],j)\n",
    "    tparamsa2.append(ParameterVector(f\"p{8*i+4}\",1))\n",
    "    hparamsa2.append(ParameterVector(f\"p{8*i+5}\",5))\n",
    "    ansatza2.custom_hamiltonian(connectivity=[[0,1],[1,2],[2,3],[3,4]],h_coeff0=hparamsa2[-1][0],h_coeff1=hparamsa2[-1][1],h_coeff2=hparamsa2[-1][2],h_coeff3=hparamsa2[-1][3],h_coeff4=hparamsa2[-1][4],time=tparamsa2[-1][0],qubits=[qra2[i] for i in range(no_qubits)],label='analog_block')\n",
    "    c = ParameterVector(f\"p{8*i+6}\",no_qubits)\n",
    "    for j in range(no_qubits):\n",
    "        ansatza2.rx(c[j],j)\n",
    "    e = ParameterVector(f\"p{8*i+7}\",no_qubits)\n",
    "    for j in range(no_qubits):\n",
    "        ansatza2.rz(e[j],j)\n",
    "print(ansatza2.draw())"
   ]
  },
  {
   "cell_type": "code",
   "execution_count": 109,
   "metadata": {},
   "outputs": [
    {
     "name": "stdout",
     "output_type": "stream",
     "text": [
      "VQE on Aer qasm simulator (no noise): -5.18164\n",
      "Delta from reference energy value is 2.52990\n"
     ]
    }
   ],
   "source": [
    "spsa = SPSA(maxiter=iterations)\n",
    "vqe = VQE(ansatza, optimizer=spsa, callback=store_intermediate_resulta, quantum_instance=qi)\n",
    "resulta = vqe.compute_minimum_eigenvalue(operator=H2_op)\n",
    "print(f'VQE on Aer qasm simulator (no noise): {resulta.eigenvalue.real:.5f}')\n",
    "print(f'Delta from reference energy value is {(resulta.eigenvalue.real - ref_value):.5f}')"
   ]
  },
  {
   "cell_type": "code",
   "execution_count": 110,
   "metadata": {},
   "outputs": [
    {
     "name": "stdout",
     "output_type": "stream",
     "text": [
      "VQE on Aer qasm simulator (no noise): -0.59180\n",
      "Delta from reference energy value is 7.11975\n"
     ]
    }
   ],
   "source": [
    "spsa = SPSA(maxiter=iterations)\n",
    "vqe = VQE(ansatza1, optimizer=spsa, callback=store_intermediate_resulta1, quantum_instance=qi)\n",
    "resulta1 = vqe.compute_minimum_eigenvalue(operator=H2_op)\n",
    "print(f'VQE on Aer qasm simulator (no noise): {resulta1.eigenvalue.real:.5f}')\n",
    "print(f'Delta from reference energy value is {(resulta1.eigenvalue.real - ref_value):.5f}')"
   ]
  },
  {
   "cell_type": "code",
   "execution_count": 111,
   "metadata": {},
   "outputs": [
    {
     "name": "stdout",
     "output_type": "stream",
     "text": [
      "VQE on Aer qasm simulator (no noise): -2.86133\n",
      "Delta from reference energy value is 4.85022\n"
     ]
    }
   ],
   "source": [
    "spsa = SPSA(maxiter=iterations)\n",
    "vqe = VQE(ansatza2, optimizer=spsa, callback=store_intermediate_resulta2, quantum_instance=qi)\n",
    "resulta2 = vqe.compute_minimum_eigenvalue(operator=H2_op)\n",
    "print(f'VQE on Aer qasm simulator (no noise): {resulta2.eigenvalue.real:.5f}')\n",
    "print(f'Delta from reference energy value is {(resulta2.eigenvalue.real - ref_value):.5f}')"
   ]
  },
  {
   "cell_type": "code",
   "execution_count": 112,
   "metadata": {},
   "outputs": [
    {
     "name": "stdout",
     "output_type": "stream",
     "text": [
      "VQE on Aer qasm simulator (no noise): -1.04688\n",
      "Delta from reference energy value is 6.66467\n"
     ]
    }
   ],
   "source": [
    "spsa = SPSA(maxiter=iterations)\n",
    "vqe = VQE(ansatza3, optimizer=spsa, callback=store_intermediate_resulta3, quantum_instance=qi)\n",
    "resulta3 = vqe.compute_minimum_eigenvalue(operator=H2_op)\n",
    "print(f'VQE on Aer qasm simulator (no noise): {resulta3.eigenvalue.real:.5f}')\n",
    "print(f'Delta from reference energy value is {(resulta3.eigenvalue.real - ref_value):.5f}')"
   ]
  },
  {
   "cell_type": "markdown",
   "metadata": {},
   "source": [
    "#### Here, I Manually ran multiple ansatzes which were more or less the same and only kept those which gave the \"best\" results\n",
    "VQE gives different results upon running the same ansatz (implying the ansatz gets stuck in local minimas/barren plateus)"
   ]
  },
  {
   "cell_type": "code",
   "execution_count": 113,
   "metadata": {},
   "outputs": [
    {
     "name": "stdout",
     "output_type": "stream",
     "text": [
      "VQE on Aer qasm simulator (no noise): -4.11523\n",
      "Delta from reference energy value is 3.59631\n"
     ]
    }
   ],
   "source": [
    "spsa = SPSA(maxiter=iterations)\n",
    "vqe = VQE(ansatza4, optimizer=spsa, callback=store_intermediate_resulta4, quantum_instance=qi)\n",
    "resulta4 = vqe.compute_minimum_eigenvalue(operator=H2_op)\n",
    "print(f'VQE on Aer qasm simulator (no noise): {resulta4.eigenvalue.real:.5f}')\n",
    "print(f'Delta from reference energy value is {(resulta4.eigenvalue.real - ref_value):.5f}')"
   ]
  },
  {
   "cell_type": "code",
   "execution_count": 114,
   "metadata": {},
   "outputs": [
    {
     "name": "stdout",
     "output_type": "stream",
     "text": [
      "VQE on Aer qasm simulator (no noise): -1.91602\n",
      "Delta from reference energy value is 5.79553\n"
     ]
    }
   ],
   "source": [
    "spsa = SPSA(maxiter=iterations)\n",
    "vqe = VQE(ansatza5, optimizer=spsa, callback=store_intermediate_resulta5, quantum_instance=qi)\n",
    "resulta5 = vqe.compute_minimum_eigenvalue(operator=H2_op)\n",
    "print(f'VQE on Aer qasm simulator (no noise): {resulta5.eigenvalue.real:.5f}')\n",
    "print(f'Delta from reference energy value is {(resulta5.eigenvalue.real - ref_value):.5f}')"
   ]
  },
  {
   "cell_type": "code",
   "execution_count": 127,
   "metadata": {},
   "outputs": [
    {
     "name": "stdout",
     "output_type": "stream",
     "text": [
      "VQE on Aer qasm simulator (no noise): -1.23242\n",
      "Delta from reference energy value is 6.47912\n"
     ]
    }
   ],
   "source": [
    "spsa = SPSA(maxiter=iterations)\n",
    "vqe = VQE(ansatza6, optimizer=spsa, callback=store_intermediate_resulta6, quantum_instance=qi)\n",
    "resulta6 = vqe.compute_minimum_eigenvalue(operator=H2_op)\n",
    "print(f'VQE on Aer qasm simulator (no noise): {resulta6.eigenvalue.real:.5f}')\n",
    "print(f'Delta from reference energy value is {(resulta6.eigenvalue.real - ref_value):.5f}')"
   ]
  },
  {
   "cell_type": "code",
   "execution_count": 116,
   "metadata": {},
   "outputs": [
    {
     "name": "stdout",
     "output_type": "stream",
     "text": [
      "VQE on Aer qasm simulator (no noise): -1.93555\n",
      "Delta from reference energy value is 5.77600\n"
     ]
    }
   ],
   "source": [
    "spsa = SPSA(maxiter=iterations)\n",
    "vqe = VQE(ansatza7, optimizer=spsa, callback=store_intermediate_resulta7, quantum_instance=qi)\n",
    "resulta7 = vqe.compute_minimum_eigenvalue(operator=H2_op)\n",
    "print(f'VQE on Aer qasm simulator (no noise): {resulta7.eigenvalue.real:.5f}')\n",
    "print(f'Delta from reference energy value is {(resulta7.eigenvalue.real - ref_value):.5f}')"
   ]
  },
  {
   "cell_type": "code",
   "execution_count": 128,
   "metadata": {},
   "outputs": [
    {
     "name": "stdout",
     "output_type": "stream",
     "text": [
      "VQE on Aer qasm simulator (no noise): -2.73047\n",
      "Delta from reference energy value is 4.98108\n"
     ]
    }
   ],
   "source": [
    "spsa = SPSA(maxiter=iterations)\n",
    "vqe = VQE(ansatza8, optimizer=spsa, callback=store_intermediate_resulta8, quantum_instance=qi)\n",
    "resulta8 = vqe.compute_minimum_eigenvalue(operator=H2_op)\n",
    "print(f'VQE on Aer qasm simulator (no noise): {resulta8.eigenvalue.real:.5f}')\n",
    "print(f'Delta from reference energy value is {(resulta8.eigenvalue.real - ref_value):.5f}')"
   ]
  },
  {
   "cell_type": "code",
   "execution_count": 89,
   "metadata": {},
   "outputs": [],
   "source": [
    "optpt = 0"
   ]
  },
  {
   "cell_type": "code",
   "execution_count": 148,
   "metadata": {},
   "outputs": [
    {
     "name": "stdout",
     "output_type": "stream",
     "text": [
      "VQE on Aer qasm simulator (no noise): -6.14844\n",
      "Delta from reference energy value is 1.56311\n"
     ]
    }
   ],
   "source": [
    "spsa = SPSA(maxiter=iterations)\n",
    "vqe = VQE(ansatza9, optimizer=spsa,callback=store_intermediate_resulta9, quantum_instance=qi)\n",
    "resulta9 = vqe.compute_minimum_eigenvalue(operator=H2_op)\n",
    "print(f'VQE on Aer qasm simulator (no noise): {resulta9.eigenvalue.real:.5f}')\n",
    "print(f'Delta from reference energy value is {(resulta9.eigenvalue.real - ref_value):.5f}')"
   ]
  },
  {
   "cell_type": "code",
   "execution_count": 119,
   "metadata": {},
   "outputs": [
    {
     "name": "stdout",
     "output_type": "stream",
     "text": [
      "VQE on Aer qasm simulator (no noise): -4.42969\n",
      "Delta from reference energy value is 3.28186\n"
     ]
    }
   ],
   "source": [
    "spsa = SPSA(maxiter=iterations)\n",
    "vqe = VQE(ansatza10, optimizer=spsa, callback=store_intermediate_resulta10, quantum_instance=qi)\n",
    "resulta10 = vqe.compute_minimum_eigenvalue(operator=H2_op)\n",
    "print(f'VQE on Aer qasm simulator (no noise): {resulta10.eigenvalue.real:.5f}')\n",
    "print(f'Delta from reference energy value is {(resulta10.eigenvalue.real - ref_value):.5f}')"
   ]
  },
  {
   "cell_type": "code",
   "execution_count": 120,
   "metadata": {},
   "outputs": [
    {
     "name": "stdout",
     "output_type": "stream",
     "text": [
      "VQE on Aer qasm simulator (no noise): -3.94727\n",
      "Delta from reference energy value is 3.76428\n"
     ]
    }
   ],
   "source": [
    "spsa = SPSA(maxiter=iterations)\n",
    "vqe = VQE(ansatza11, optimizer=spsa, callback=store_intermediate_resulta11, quantum_instance=qi)\n",
    "resulta11 = vqe.compute_minimum_eigenvalue(operator=H2_op)\n",
    "print(f'VQE on Aer qasm simulator (no noise): {resulta11.eigenvalue.real:.5f}')\n",
    "print(f'Delta from reference energy value is {(resulta11.eigenvalue.real - ref_value):.5f}')"
   ]
  },
  {
   "cell_type": "code",
   "execution_count": 149,
   "metadata": {},
   "outputs": [
    {
     "data": {
      "text/plain": [
       "<matplotlib.legend.Legend at 0x1794a87a5e0>"
      ]
     },
     "execution_count": 149,
     "metadata": {},
     "output_type": "execute_result"
    },
    {
     "data": {
      "image/png": "[encoded data removed]",
      "text/plain": [
       "<Figure size 864x288 with 1 Axes>"
      ]
     },
     "metadata": {
      "needs_background": "light"
     },
     "output_type": "display_data"
    }
   ],
   "source": [
    "pylab.rcParams['figure.figsize'] = (12, 4)\n",
    "pylab.plot(countsa, valuesa,label=f\"resulta = {resulta.eigenvalue.real}\")\n",
    "pylab.plot(countsa1, valuesa1,label=f\"resulta1 = {resulta1.eigenvalue.real}\")\n",
    "pylab.plot(countsa2, valuesa2,label=f\"resulta2 = {resulta2.eigenvalue.real}\")\n",
    "pylab.plot(countsa3, valuesa3,label=f\"resulta3 = {resulta3.eigenvalue.real}\")\n",
    "pylab.plot(countsa4, valuesa4,label=f\"resulta4 = {resulta4.eigenvalue.real}\")\n",
    "pylab.plot(countsa5, valuesa5,label=f\"resulta5 = {resulta5.eigenvalue.real}\")\n",
    "pylab.plot(countsa6, valuesa6,label=f\"resulta6 = {resulta6.eigenvalue.real}\")\n",
    "pylab.plot(countsa7, valuesa7,label=f\"resulta7 = {resulta7.eigenvalue.real}\")\n",
    "pylab.plot(countsa8, valuesa8,label=f\"resulta8 = {resulta8.eigenvalue.real}\")\n",
    "pylab.plot(countsa9, valuesa9,label=f\"resulta9 = {resulta9.eigenvalue.real}\")\n",
    "pylab.plot(countsa10, valuesa10,label=f\"resulta10 = {resulta10.eigenvalue.real}\")\n",
    "pylab.plot(countsa11, valuesa11,label=f\"resulta11 = {resulta11.eigenvalue.real}\")\n",
    "pylab.xlabel('Eval count')\n",
    "pylab.ylabel('Energy')\n",
    "pylab.title('Convergence with no noise')\n",
    "pylab.legend()"
   ]
  },
  {
   "cell_type": "markdown",
   "metadata": {},
   "source": [
    "The value changes slightly by re-running the vqe procedure, the closest groundstate I got was around -7.03, unfortunately that result got overwritten "
   ]
  },
  {
   "cell_type": "code",
   "execution_count": 150,
   "metadata": {},
   "outputs": [
    {
     "name": "stdout",
     "output_type": "stream",
     "text": [
      "{   'aux_operator_eigenvalues': None,\n",
      "    'cost_function_evals': 250,\n",
      "    'eigenstate': {   '00001': 0.04419417382415922,\n",
      "                      '00011': 0.03125,\n",
      "                      '00100': 0.10364452469860624,\n",
      "                      '00101': 0.3336586953759785,\n",
      "                      '00110': 0.3045873232752801,\n",
      "                      '01000': 0.10364452469860624,\n",
      "                      '01001': 0.42847841252506524,\n",
      "                      '01010': 0.3657718722099883,\n",
      "                      '01011': 0.0625,\n",
      "                      '01100': 0.04419417382415922,\n",
      "                      '01101': 0.14986973510352247,\n",
      "                      '01110': 0.14320549046737,\n",
      "                      '01111': 0.05412658773652741,\n",
      "                      '10000': 0.0625,\n",
      "                      '10001': 0.20252314682524564,\n",
      "                      '10010': 0.184877493221863,\n",
      "                      '10011': 0.05412658773652741,\n",
      "                      '10100': 0.09882117688026186,\n",
      "                      '10101': 0.2633171804117612,\n",
      "                      '10110': 0.2538762001448738,\n",
      "                      '10111': 0.04419417382415922,\n",
      "                      '11000': 0.07654655446197431,\n",
      "                      '11001': 0.3232525135246438,\n",
      "                      '11010': 0.23593232610221093,\n",
      "                      '11011': 0.03125,\n",
      "                      '11101': 0.06987712429686843,\n",
      "                      '11110': 0.05412658773652741},\n",
      "    'eigenvalue': (-6.1484375+0j),\n",
      "    'optimal_parameters': {   ParameterVectorElement(p0[0]): -0.381042579404329,\n",
      "                              ParameterVectorElement(p2[0]): 5.867019719253031,\n",
      "                              ParameterVectorElement(p2[4]): -8.064213023261528,\n",
      "                              ParameterVectorElement(p2[1]): 3.3980868860489606,\n",
      "                              ParameterVectorElement(p2[3]): 2.8421574286165336,\n",
      "                              ParameterVectorElement(p3[0]): -1.3700555908296075,\n",
      "                              ParameterVectorElement(p2[2]): -3.090346617343047,\n",
      "                              ParameterVectorElement(p3[4]): 1.4232007424190698,\n",
      "                              ParameterVectorElement(p3[2]): 2.9674284786511214,\n",
      "                              ParameterVectorElement(p3[1]): 6.114429854737839,\n",
      "                              ParameterVectorElement(p3[3]): 1.7683242576938027,\n",
      "                              ParameterVectorElement(p6[0]): -1.7892010147259179,\n",
      "                              ParameterVectorElement(p5[3]): -1.079362564931694,\n",
      "                              ParameterVectorElement(p5[4]): -2.6118285724644004,\n",
      "                              ParameterVectorElement(p5[1]): -0.2688445891330006,\n",
      "                              ParameterVectorElement(p5[0]): -6.341279220692936,\n",
      "                              ParameterVectorElement(p6[2]): 3.8283986591465773,\n",
      "                              ParameterVectorElement(p6[3]): 3.097802179077081,\n",
      "                              ParameterVectorElement(p6[1]): 2.1036430248886546,\n",
      "                              ParameterVectorElement(p6[4]): -4.895792843056446,\n",
      "                              ParameterVectorElement(p5[2]): 2.9291882511832243},\n",
      "    'optimal_point': array([-0.38104258,  5.86701972,  3.39808689, -3.09034662,  2.84215743,\n",
      "       -8.06421302, -1.37005559,  6.11442985,  2.96742848,  1.76832426,\n",
      "        1.42320074, -6.34127922, -0.26884459,  2.92918825, -1.07936256,\n",
      "       -2.61182857, -1.78920101,  2.10364302,  3.82839866,  3.09780218,\n",
      "       -4.89579284]),\n",
      "    'optimal_value': -6.1484375,\n",
      "    'optimizer_evals': None,\n",
      "    'optimizer_time': 48.43428349494934}\n",
      "(-6.1484375+0j)\n"
     ]
    }
   ],
   "source": [
    "print(resulta9)\n",
    "optpt = resulta9.optimal_point\n",
    "print(resulta9.eigenvalue)"
   ]
  },
  {
   "cell_type": "code",
   "execution_count": 152,
   "metadata": {},
   "outputs": [
    {
     "name": "stdout",
     "output_type": "stream",
     "text": [
      "           ┌───┐»\n",
      "q371732_0: ┤ H ├»\n",
      "           ├───┤»\n",
      "q371732_1: ┤ H ├»\n",
      "           ├───┤»\n",
      "q371732_2: ┤ H ├»\n",
      "           ├───┤»\n",
      "q371732_3: ┤ H ├»\n",
      "           ├───┤»\n",
      "q371732_4: ┤ H ├»\n",
      "           └───┘»\n",
      "«           ┌────────────────────────────────────────────────────────────────────────────────┐»\n",
      "«q371732_0: ┤0                                                                               ├»\n",
      "«           │                                                                                │»\n",
      "«q371732_1: ┤1                                                                               ├»\n",
      "«           │                                                                                │»\n",
      "«q371732_2: ┤2 analog_block(-0.381042579404329,5,[[0, 1], [1, 2], [2, 3], [3, 4]],1,1,1,1,1) ├»\n",
      "«           │                                                                                │»\n",
      "«q371732_3: ┤3                                                                               ├»\n",
      "«           │                                                                                │»\n",
      "«q371732_4: ┤4                                                                               ├»\n",
      "«           └────────────────────────────────────────────────────────────────────────────────┘»\n",
      "«           ┌───────────┐┌───────────┐»\n",
      "«q371732_0: ┤ Rz(p2[0]) ├┤ Rx(p3[0]) ├»\n",
      "«           ├───────────┤├───────────┤»\n",
      "«q371732_1: ┤ Rz(p2[1]) ├┤ Rx(p3[1]) ├»\n",
      "«           ├───────────┤├───────────┤»\n",
      "«q371732_2: ┤ Rz(p2[2]) ├┤ Rx(p3[2]) ├»\n",
      "«           ├───────────┤├───────────┤»\n",
      "«q371732_3: ┤ Rz(p2[3]) ├┤ Rx(p3[3]) ├»\n",
      "«           ├───────────┤├───────────┤»\n",
      "«q371732_4: ┤ Rz(p2[4]) ├┤ Rx(p3[4]) ├»\n",
      "«           └───────────┘└───────────┘»\n",
      "«           ┌────────────────────────────────────────────────────────────────────────────────┐»\n",
      "«q371732_0: ┤0                                                                               ├»\n",
      "«           │                                                                                │»\n",
      "«q371732_1: ┤1                                                                               ├»\n",
      "«           │                                                                                │»\n",
      "«q371732_2: ┤2 analog_block(-0.381042579404329,5,[[4, 3], [3, 2], [2, 1], [1, 0]],1,1,1,1,1) ├»\n",
      "«           │                                                                                │»\n",
      "«q371732_3: ┤3                                                                               ├»\n",
      "«           │                                                                                │»\n",
      "«q371732_4: ┤4                                                                               ├»\n",
      "«           └────────────────────────────────────────────────────────────────────────────────┘»\n",
      "«           ┌───────────┐┌───────────┐\n",
      "«q371732_0: ┤ Rz(p5[0]) ├┤ Rx(p6[0]) ├\n",
      "«           ├───────────┤├───────────┤\n",
      "«q371732_1: ┤ Rz(p5[1]) ├┤ Rx(p6[1]) ├\n",
      "«           ├───────────┤├───────────┤\n",
      "«q371732_2: ┤ Rz(p5[2]) ├┤ Rx(p6[2]) ├\n",
      "«           ├───────────┤├───────────┤\n",
      "«q371732_3: ┤ Rz(p5[3]) ├┤ Rx(p6[3]) ├\n",
      "«           ├───────────┤├───────────┤\n",
      "«q371732_4: ┤ Rz(p5[4]) ├┤ Rx(p6[4]) ├\n",
      "«           └───────────┘└───────────┘\n",
      "20\n"
     ]
    }
   ],
   "source": [
    "init_pt = resulta9.optimal_point\n",
    "init_pt = list(init_pt)\n",
    "nansatz = ansatza9.copy()\n",
    "#for i in range(nlayers):\n",
    "nansatz = nansatz.bind_parameters({tparamsa9[0]:[init_pt[0]]})\n",
    "init_pt.pop(0)\n",
    "#bp\n",
    "print(nansatz.draw())\n",
    "print(len(init_pt))"
   ]
  },
  {
   "cell_type": "markdown",
   "metadata": {},
   "source": [
    "## Performance *with* noise"
   ]
  },
  {
   "cell_type": "code",
   "execution_count": 153,
   "metadata": {},
   "outputs": [
    {
     "name": "stdout",
     "output_type": "stream",
     "text": [
      "NoiseModel:\n",
      "  Basis gates: ['cx', 'id', 'kraus', 'qerror_loc', 'quantum_channel', 'roerror', 'rz', 'save_amplitudes', 'save_amplitudes_sq', 'save_density_matrix', 'save_expval', 'save_expval_var', 'save_probabilities', 'save_probabilities_dict', 'save_stabilizer', 'save_state', 'save_statevector', 'save_statevector_dict', 'set_density_matrix', 'set_stabilizer', 'set_statevector', 'snapshot', 'sx', 'x']\n",
      "  Instructions with noise: ['x', 'sx', 'id', 'cx', 'measure']\n",
      "  Qubits with noise: [0, 1, 2, 3, 4]\n",
      "  Specific qubit errors: [('id', (0,)), ('id', (1,)), ('id', (2,)), ('id', (3,)), ('id', (4,)), ('sx', (0,)), ('sx', (1,)), ('sx', (2,)), ('sx', (3,)), ('sx', (4,)), ('x', (0,)), ('x', (1,)), ('x', (2,)), ('x', (3,)), ('x', (4,)), ('cx', (3, 4)), ('cx', (4, 3)), ('cx', (3, 1)), ('cx', (1, 3)), ('cx', (1, 2)), ('cx', (2, 1)), ('cx', (0, 1)), ('cx', (1, 0)), ('measure', (0,)), ('measure', (1,)), ('measure', (2,)), ('measure', (3,)), ('measure', (4,))]\n",
      "\n"
     ]
    }
   ],
   "source": [
    "import os\n",
    "from qiskit.providers.aer import QasmSimulator\n",
    "from qiskit.providers.aer.noise import NoiseModel\n",
    "from qiskit.test.mock import FakeVigo\n",
    "device_backend = FakeVigo()\n",
    "\n",
    "backend = Aer.get_backend('aer_simulator')\n",
    "noise_model = None\n",
    "device = QasmSimulator.from_backend(device_backend)\n",
    "coupling_map = device.configuration().coupling_map\n",
    "noise_model = NoiseModel.from_backend(device)\n",
    "basis_gates = noise_model.basis_gates\n",
    "\n",
    "print(noise_model)\n",
    "print()\n",
    "\n",
    "algorithm_globals.random_seed = seed\n",
    "qi = QuantumInstance(backend=backend, seed_simulator=seed, seed_transpiler=seed,\n",
    "                     coupling_map=coupling_map, noise_model=noise_model,)"
   ]
  },
  {
   "cell_type": "code",
   "execution_count": null,
   "metadata": {},
   "outputs": [],
   "source": [
    "\"\"\" # T1 and T2 values for qubits 0-3\n",
    "T1s = np.random.normal(50e3, 10e3, 4) # Sampled from normal distribution mean 50 microsec\n",
    "T2s = np.random.normal(70e3, 10e3, 4)  # Sampled from normal distribution mean 50 microsec\n",
    "\n",
    "# Truncate random T2s <= T1s\n",
    "T2s = np.array([min(T2s[j], 2 * T1s[j]) for j in range(4)])\n",
    "\n",
    "# Instruction times (in nanoseconds)\n",
    "time_u1 = 0   # virtual gate\n",
    "time_u2 = 50  # (single X90 pulse)\n",
    "time_u3 = 100 # (two X90 pulses)\n",
    "time_cx = 300\n",
    "time_reset = 1000  # 1 microsecond\n",
    "time_measure = 1000 # 1 microsecond\n",
    "\n",
    "# QuantumError objects\n",
    "errors_reset = [thermal_relaxation_error(t1, t2, time_reset)\n",
    "                for t1, t2 in zip(T1s, T2s)]\n",
    "errors_measure = [thermal_relaxation_error(t1, t2, time_measure)\n",
    "                  for t1, t2 in zip(T1s, T2s)]\n",
    "errors_u1  = [thermal_relaxation_error(t1, t2, time_u1)\n",
    "              for t1, t2 in zip(T1s, T2s)]\n",
    "errors_u2  = [thermal_relaxation_error(t1, t2, time_u2)\n",
    "              for t1, t2 in zip(T1s, T2s)]\n",
    "errors_u3  = [thermal_relaxation_error(t1, t2, time_u3)\n",
    "              for t1, t2 in zip(T1s, T2s)]\n",
    "errors_cx = [[thermal_relaxation_error(t1a, t2a, time_cx).expand(\n",
    "             thermal_relaxation_error(t1b, t2b, time_cx))\n",
    "              for t1a, t2a in zip(T1s, T2s)]\n",
    "               for t1b, t2b in zip(T1s, T2s)]\n",
    "\n",
    "# Add errors to noise model\n",
    "noise_thermal = NoiseModel()\n",
    "for j in range(4):\n",
    "    noise_thermal.add_quantum_error(errors_reset[j], \"reset\", [j])\n",
    "    noise_thermal.add_quantum_error(errors_measure[j], \"measure\", [j])\n",
    "    noise_thermal.add_quantum_error(errors_u1[j], \"u1\", [j])\n",
    "    noise_thermal.add_quantum_error(errors_u2[j], \"u2\", [j])\n",
    "    noise_thermal.add_quantum_error(errors_u3[j], \"u3\", [j])\n",
    "    for k in range(4):\n",
    "        noise_thermal.add_quantum_error(errors_cx[j][k], \"cx\", [j, k])\n",
    "\n",
    "print(noise_thermal) \"\"\""
   ]
  },
  {
   "cell_type": "code",
   "execution_count": 155,
   "metadata": {},
   "outputs": [],
   "source": [
    "counts1 = []\n",
    "values1 = []\n",
    "def store_intermediate_result1(eval_count, parameters, mean, std):\n",
    "    counts1.append(eval_count)\n",
    "    values1.append(mean)"
   ]
  },
  {
   "cell_type": "code",
   "execution_count": 160,
   "metadata": {},
   "outputs": [],
   "source": [
    "countsn2 = []\n",
    "valuesn2 = []\n",
    "def store_intermediate_resultn2(eval_count, parameters, mean, std):\n",
    "    countsn2.append(eval_count)\n",
    "    valuesn2.append(mean)"
   ]
  },
  {
   "cell_type": "markdown",
   "metadata": {},
   "source": [
    "#### Since analog gates cannot be parameterized under noise, here I assigned the optimal time value which I got from the optimal parameters of the most efficicient ansatz"
   ]
  },
  {
   "cell_type": "markdown",
   "metadata": {},
   "source": [
    "- Here I am also using the other optimal parameters as the initial point"
   ]
  },
  {
   "cell_type": "code",
   "execution_count": 158,
   "metadata": {},
   "outputs": [
    {
     "name": "stdout",
     "output_type": "stream",
     "text": [
      "VQE on Aer qasm simulator (with noise): -0.25000\n",
      "Delta from reference energy value is 7.46155\n",
      "\n"
     ]
    }
   ],
   "source": [
    "\n",
    "#var_form = TwoLocal(rotation_blocks='ry', entanglement_blocks='cz')\n",
    "spsa = SPSA(maxiter=iterations)\n",
    "vqe = VQE(nansatz, optimizer=spsa,initial_point=init_pt, callback=store_intermediate_result1, quantum_instance=qi)\n",
    "result1 = vqe.compute_minimum_eigenvalue(operator=H2_op)\n",
    "print(f'VQE on Aer qasm simulator (with noise): {result1.eigenvalue.real:.5f}')\n",
    "print(f'Delta from reference energy value is {(result1.eigenvalue.real - ref_value):.5f}')\n",
    "print()"
   ]
  },
  {
   "cell_type": "markdown",
   "metadata": {},
   "source": [
    "- Here I am not using the other optimal parameters as the initial point"
   ]
  },
  {
   "cell_type": "code",
   "execution_count": 163,
   "metadata": {},
   "outputs": [
    {
     "name": "stdout",
     "output_type": "stream",
     "text": [
      "VQE on Aer qasm simulator (with noise): -0.28516\n",
      "Delta from reference energy value is 7.42639\n",
      "\n"
     ]
    }
   ],
   "source": [
    "spsa = SPSA(maxiter=iterations)\n",
    "vqe = VQE(nansatz, optimizer=spsa, callback=store_intermediate_resultn2, quantum_instance=qi)\n",
    "resultn2 = vqe.compute_minimum_eigenvalue(operator=H2_op)\n",
    "print(f'VQE on Aer qasm simulator (with noise): {resultn2.eigenvalue.real:.5f}')\n",
    "print(f'Delta from reference energy value is {(resultn2.eigenvalue.real - ref_value):.5f}')\n",
    "print()"
   ]
  },
  {
   "cell_type": "markdown",
   "metadata": {},
   "source": [
    "- here I'll be taking different times in the interval t = -2 to 2 and choose the best out of them"
   ]
  },
  {
   "cell_type": "code",
   "execution_count": 164,
   "metadata": {},
   "outputs": [],
   "source": [
    "countsn3 = []\n",
    "valuesn3 = []\n",
    "def store_intermediate_resultn3(eval_count, parameters, mean, std):\n",
    "    countsn3.append(eval_count)\n",
    "    valuesn3.append(mean)"
   ]
  },
  {
   "cell_type": "code",
   "execution_count": 166,
   "metadata": {},
   "outputs": [
    {
     "name": "stdout",
     "output_type": "stream",
     "text": [
      "VQE on Aer qasm simulator (with noise): -3.59375\n",
      "Delta from reference energy value is 4.11780\n",
      "\n"
     ]
    }
   ],
   "source": [
    "spsa = SPSA(maxiter=iterations)\n",
    "tinterval = np.linspace(-2,2,11) #Can be changed to get possibly even better results\n",
    "emin = 10000\n",
    "tmin = -2\n",
    "for i in tinterval:\n",
    "    ansatzn2 = ansatza9.bind_parameters({tparamsa9[0]:[i]})\n",
    "    vqe = VQE(ansatzn2, optimizer=spsa, callback=store_intermediate_resultn3, quantum_instance=qi)\n",
    "    resultn3 = vqe.compute_minimum_eigenvalue(operator=H2_op)\n",
    "    temp = min(emin,resultn3.eigenvalue.real)\n",
    "    if temp != emin:\n",
    "        emin = temp\n",
    "        tmin = i\n",
    "countsn3 = []\n",
    "valuesn3 = []\n",
    "ansatzn2 = ansatza9.bind_parameters({tparamsa9[0]:[tmin]})\n",
    "vqe = VQE(ansatzn2, optimizer=spsa,initial_point=init_pt, callback=store_intermediate_resultn3, quantum_instance=qi)\n",
    "resultn3 = vqe.compute_minimum_eigenvalue(operator=H2_op)\n",
    "print(f'VQE on Aer qasm simulator (with noise): {resultn3.eigenvalue.real:.5f}')\n",
    "print(f'Delta from reference energy value is {(resultn3.eigenvalue.real - ref_value):.5f}')\n",
    "print()"
   ]
  },
  {
   "cell_type": "code",
   "execution_count": 169,
   "metadata": {},
   "outputs": [
    {
     "data": {
      "image/png": "[encoded data removed]",
      "text/plain": [
       "<Figure size 864x288 with 1 Axes>"
      ]
     },
     "metadata": {
      "needs_background": "light"
     },
     "output_type": "display_data"
    }
   ],
   "source": [
    "if counts1 or values1:\n",
    "    pylab.rcParams['figure.figsize'] = (12, 4)\n",
    "    pylab.plot(counts1, values1,label=\"with initial point\")\n",
    "    pylab.plot(countsn2,valuesn2,label=\"without initial point\")\n",
    "    pylab.plot(countsn3,valuesn3,label=f\"when t={tmin} taken by brute force\")\n",
    "    pylab.xlabel('Eval count')\n",
    "    pylab.ylabel('Energy')\n",
    "    pylab.title('Convergence with noise')\n",
    "    pylab.legend()"
   ]
  },
  {
   "cell_type": "markdown",
   "metadata": {},
   "source": [
    "## Performance *with* noise and measurement error mitigation"
   ]
  },
  {
   "cell_type": "code",
   "execution_count": 171,
   "metadata": {},
   "outputs": [
    {
     "name": "stdout",
     "output_type": "stream",
     "text": [
      "VQE on Aer qasm simulator (with noise and measurement error mitigation): -4.18555\n",
      "Delta from reference energy value is 3.52600\n"
     ]
    }
   ],
   "source": [
    "from qiskit.utils.mitigation import CompleteMeasFitter\n",
    "\n",
    "counts2 = []\n",
    "values2 = []\n",
    "if noise_model is not None:\n",
    "    algorithm_globals.random_seed = seed\n",
    "    qi = QuantumInstance(backend=backend, seed_simulator=seed, seed_transpiler=seed,\n",
    "                         coupling_map=coupling_map, noise_model=noise_model, \n",
    "                         measurement_error_mitigation_cls=CompleteMeasFitter, \n",
    "                         cals_matrix_refresh_period=30)\n",
    "\n",
    "    def store_intermediate_result2(eval_count, parameters, mean, std):\n",
    "        counts2.append(eval_count)\n",
    "        values2.append(mean)\n",
    "\n",
    "    #ansatz = TwoLocal(rotation_blocks='ry', entanglement_blocks='cz')\n",
    "    spsa = SPSA(maxiter=iterations)\n",
    "    vqe = VQE(ansatzn2, optimizer=spsa, callback=store_intermediate_result2, quantum_instance=qi)\n",
    "    result2 = vqe.compute_minimum_eigenvalue(operator=H2_op)\n",
    "    print(f'VQE on Aer qasm simulator (with noise and measurement error mitigation): {result2.eigenvalue.real:.5f}')\n",
    "    print(f'Delta from reference energy value is {(result2.eigenvalue.real - ref_value):.5f}')"
   ]
  },
  {
   "cell_type": "code",
   "execution_count": 173,
   "metadata": {},
   "outputs": [
    {
     "data": {
      "image/png": "[encoded data removed]",
      "text/plain": [
       "<Figure size 864x288 with 1 Axes>"
      ]
     },
     "metadata": {
      "needs_background": "light"
     },
     "output_type": "display_data"
    }
   ],
   "source": [
    "if counts2 or values2:\n",
    "    pylab.rcParams['figure.figsize'] = (12, 4)\n",
    "    pylab.plot(counts2, values2)\n",
    "    pylab.xlabel('Eval count')\n",
    "    pylab.ylabel('Energy')\n",
    "    pylab.title('Convergence with noise, measurement error mitigation enabled')"
   ]
  },
  {
   "cell_type": "markdown",
   "metadata": {},
   "source": [
    "Lets bring the results together here for a summary. \n",
    "\n",
    "We produced a reference value using a classical algorithm and then proceeded to run VQE on a qasm simulator. While the simulation is ideal (no noise) there is so called shot-noise due to sampling - increasing the number of shots reduces this as more and more samples are taken, but shots was left at the default of 1024 and we see a small effect in the outcome. \n",
    "\n",
    "Then we added noise using a model taken off a real device and can see the result is affected. Finally we added measurement noise mitigation which adjusts the results in an attempt to alleviate the affect of noise in the classical equipment measuring the qubits."
   ]
  },
  {
   "cell_type": "code",
   "execution_count": 174,
   "metadata": {},
   "outputs": [
    {
     "name": "stdout",
     "output_type": "stream",
     "text": [
      "Reference value: -7.71155\n",
      "VQE on Aer qasm simulator (no noise): -6.14844\n",
      "VQE on Aer qasm simulator (with noise): -3.59375\n",
      "VQE on Aer qasm simulator (with noise and measurement error mitigation): -4.18555\n"
     ]
    }
   ],
   "source": [
    "print(f'Reference value: {ref_value:.5f}')\n",
    "print(f'VQE on Aer qasm simulator (no noise): {resulta9.eigenvalue.real:.5f}')\n",
    "print(f'VQE on Aer qasm simulator (with noise): {resultn3.eigenvalue.real:.5f}')\n",
    "print(f'VQE on Aer qasm simulator (with noise and measurement error mitigation): {result2.eigenvalue.real:.5f}')"
   ]
  },
  {
   "cell_type": "markdown",
   "metadata": {},
   "source": [
    "Hence, although the digital-analog approach seems to work flawlessly for smaller sized problem hamiltonians, At a larger size the results seem to be not that appealing, although a further investigation is required as to what seems to be the problem, the main issue seems to be the inability of ansatzes to reach the global minima.\n",
    "- As opposed to what one would initially think that increasing the number of layers/gates (more parameters) would lead to a higher coverage of the hilbert space, it seems like although that may be true, but that would also imply the higher probability of getting stuck in a local minima. Specialized Initial states/ Problem specific ansatze analysis may be one way of tackling the same."
   ]
  },
  {
   "cell_type": "markdown",
   "metadata": {},
   "source": [
    "In our case the winner ansatze was the simplest to construct with simple $Z_{j}Z_{j+1}$ terms in the analog gate in which the h_coefficients were not parameterized and the same time was used for multiple occurences of the analog gate"
   ]
  },
  {
   "cell_type": "markdown",
   "metadata": {},
   "source": [
    "Remaining-\n",
    "- test with other noise models\n",
    "- try on other hamiltonians like T-Ising or other molecules"
   ]
  },
  {
   "cell_type": "markdown",
   "metadata": {},
   "source": [
    "Name - Vinamr Jain\n",
    "Team Name - Qiskit for the biscuit\n",
    "Team Members - Vinamr Jain (Pitch Presenter)\n",
    "Discord - FruitsPunchSamuraiSama#0715\n",
    "Github - https://github.com/VinamrJain\n",
    "Contact Email - vinamrjain2002@gmail.com\n",
    "Name of Challenge - Digital-Analog Variational Quantum Eigensolver (IQM)\n",
    "\n",
    "### Please go through the markdown written in the jupyter notebook files to get the remarks conclusions etc. (I'm sorry but I'm very clumsy when it comes to these things)"
   ]
  }
 ],
 "metadata": {
  "kernelspec": {
   "display_name": "Python 3.8.8 ('base')",
   "language": "python",
   "name": "python3"
  },
  "language_info": {
   "codemirror_mode": {
    "name": "ipython",
    "version": 3
   },
   "file_extension": ".py",
   "mimetype": "text/x-python",
   "name": "python",
   "nbconvert_exporter": "python",
   "pygments_lexer": "ipython3",
   "version": "3.8.8"
  },
  "orig_nbformat": 4,
  "vscode": {
   "interpreter": {
    "hash": "6f5583cf1d9466b5c27e75c89cc6b383bed5736d6b16c51c8074d8690011a952"
   }
  }
 },
 "nbformat": 4,
 "nbformat_minor": 2
}
